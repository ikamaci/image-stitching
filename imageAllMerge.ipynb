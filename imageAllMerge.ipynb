{
 "cells": [
  {
   "cell_type": "code",
   "execution_count": 3,
   "id": "23bc88bc-6cf7-4058-94fc-31e52059622c",
   "metadata": {},
   "outputs": [],
   "source": [
    "from PIL import Image\n",
    "import matplotlib.pyplot as plt\n",
    "import numpy as np\n",
    "import sys"
   ]
  },
  {
   "cell_type": "code",
   "execution_count": 4,
   "id": "2ee00e5c-3c74-41fd-9210-890a5fbfed7d",
   "metadata": {},
   "outputs": [],
   "source": [
    "def computeH(points_im1, points_im2):\n",
    "    matrixA = []\n",
    "    for i in range(len(points_im1)):\n",
    "        xs, ys = points_im1[i][0], points_im1[i][1]\n",
    "        xd, yd = points_im2[i][0], points_im1[i][1]\n",
    "        two_nineMatrix = np.array([[xs, ys, 1,0,0,0, -xd*xs, -xd*ys, -xd],\n",
    "                                   [0,0,0,xs,ys,1,-yd*xs,-yd*ys,-yd]])\n",
    "        matrixA.append(two_nineMatrix[0])\n",
    "        matrixA.append(two_nineMatrix[1])\n",
    "    return matrixA"
   ]
  },
  {
   "cell_type": "code",
   "execution_count": 5,
   "id": "e842be96-e690-4ab6-8e85-546fbd9740ce",
   "metadata": {},
   "outputs": [],
   "source": [
    "def interpolation(image, x,y):\n",
    "    leftTopX, leftTopY, leftTopVal = int(x), int(y), image[int(x)][int(y)]\n",
    "    rightTopX, rightTopY, rightTopVal = int(x) +1 , int(y), image[int(x)+1][int(y)]\n",
    "    leftBottomX, leftBottomY, leftBottomVal = int(x), int(y)+1, image[int(x)][int(y)+1]\n",
    "    rightBottomX, rightBottomY, rightBottomVal = int(x)+1, int(y)+1, image[int(x)+1][int(y)+1]\n",
    "    a=x%1\n",
    "    b= int(y)+1 - y\n",
    "    return leftBottomVal * (1- a)*(1-b) + leftTopVal * (1-a) * b + rightBottomVal * a*(1-b) + rightTopVal * a *b"
   ]
  },
  {
   "cell_type": "code",
   "execution_count": 6,
   "id": "4bfbffc2-a913-44c0-ab86-039959e8a2f5",
   "metadata": {},
   "outputs": [],
   "source": [
    "def pixelIntensity(rgb):\n",
    "     return 0.299 * rgb[0] + 0.587 * rgb[1] + 0.114 * rgb[2]"
   ]
  },
  {
   "cell_type": "code",
   "execution_count": 7,
   "id": "db9bec4f-a14b-4321-97aa-d91319e03ba3",
   "metadata": {},
   "outputs": [],
   "source": [
    "def blend(pixel1,pixel2):\n",
    "    if pixelIntensity(pixel1) > pixelIntensity(pixel2):\n",
    "        return pixel1\n",
    "    else:\n",
    "        return pixel2"
   ]
  },
  {
   "cell_type": "code",
   "execution_count": 8,
   "id": "33b3f6fb-4d9e-4532-a5a8-2b4a6a9ee6de",
   "metadata": {},
   "outputs": [],
   "source": [
    "def warp(image,homography):\n",
    "    t_inverse = np.linalg.inv(homography)\n",
    "    imHeight = len(image)\n",
    "    imWidth = len(image[0])\n",
    "    boundries = np.matmul(homography, np.array([[0,0,imWidth,imWidth],\n",
    "                                                [0,imHeight,0,imHeight],\n",
    "                                                [1,1,1,1]]))\n",
    "    boundriesDenormalized = np.matmul(boundries, np.diag(1/boundries[-1]))\n",
    "    #print(boundriesDenormalized, np.shape(boundriesDenormalized))\n",
    "    inversed = np.matmul(t_inverse, boundriesDenormalized)\n",
    "    inversedNormalised = np.matmul(inversed, np.diag(1/inversed[-1]))\n",
    "    #print(inversedNormalised)\n",
    "    newPositions = []\n",
    "    xAxisRange = (int(np.amin(boundriesDenormalized[0])),int(np.amax(boundriesDenormalized[0])))\n",
    "    minXIndex = np.where(boundriesDenormalized[0] == np.amin(boundriesDenormalized[0]))\n",
    "    #print('minx',minXIndex, boundriesDenormalized[0][minXIndex], boundriesDenormalized[1][minXIndex] )\n",
    "    coordinates1 = np.matmul(t_inverse, np.array([[-539],[-136],[1]]))\n",
    "    #print(\"coordinates1\",coordinates1 * (1/coordinates1[2][0]) )\n",
    "    yAxisRange = (int(np.amin(boundriesDenormalized[1])),int(np.amax(boundriesDenormalized[1])))\n",
    "    xAxisRange = (int(np.amin(boundriesDenormalized[0])),int(np.amax(boundriesDenormalized[0])))\n",
    "    #print(xAxisRange,yAxisRange)\n",
    "    width = xAxisRange[1]-xAxisRange[0]\n",
    "    height = yAxisRange[1]-yAxisRange[0]\n",
    "    shiftX = -xAxisRange[0] if xAxisRange[0] < 0 else 0\n",
    "    shiftY = -yAxisRange[0] if yAxisRange[0] < 0 else 0\n",
    "    wrapped = np.zeros((yAxisRange[1]+shiftY+1,xAxisRange[1]+shiftX+1,3))\n",
    "    #print(height, width)\n",
    "    #print('traverseIndex',height-1,width-1)\n",
    "    for h in range(len(wrapped)-1):\n",
    "        for w in range(len(wrapped[0])-1):\n",
    "            x = w - shiftX\n",
    "            y = h - shiftY\n",
    "            coordinates = np.matmul(t_inverse, np.array([[x],[y],[1]]))\n",
    "            coordinates = (coordinates* (1/coordinates[2][0]))[0:2]\n",
    "            if coordinates[0] > 0 and coordinates[1] > 0:\n",
    "                if int(coordinates[1]) < len(image)-1 and int(coordinates[0]) < len(image[0])-1:\n",
    "                    bilinearInterpolation  = interpolation(image,coordinates[1][0],coordinates[0][0])\n",
    "                    wrapped[h][w] = bilinearInterpolation\n",
    "    return np.asarray(wrapped), (shiftX,shiftY), (xAxisRange,yAxisRange)"
   ]
  },
  {
   "cell_type": "code",
   "execution_count": 9,
   "id": "028647ef-739b-4f9f-bec2-d4a74d572b5f",
   "metadata": {},
   "outputs": [],
   "source": [
    "def firstElements(lst): \n",
    "    return [x[0] for x in lst]"
   ]
  },
  {
   "cell_type": "code",
   "execution_count": 10,
   "id": "3d2ce188-55cc-40b7-b145-8e4ca1a11626",
   "metadata": {},
   "outputs": [],
   "source": [
    "def secondElements(lst):\n",
    "    return [x[1] for x in lst]"
   ]
  },
  {
   "cell_type": "code",
   "execution_count": 23,
   "id": "dd9d18d5-8e33-4e53-86e3-be7e1902594e",
   "metadata": {},
   "outputs": [],
   "source": [
    "def mergeImages(imageList, shiftList, x_yRange):\n",
    "    leftBound = min(firstElements(firstElements(x_yRange)))\n",
    "    rightBound = max(secondElements(firstElements(x_yRange)))\n",
    "    topBound = min(firstElements(secondElements(x_yRange)))\n",
    "    bottomBound = max(secondElements(secondElements(x_yRange)))\n",
    "    xAxisRange= (leftBound, rightBound)\n",
    "    yAxisRange = (topBound, bottomBound)\n",
    "    print(leftBound,rightBound, topBound, bottomBound)\n",
    "    merged = np.zeros(( bottomBound - topBound, rightBound - leftBound, 3))\n",
    "    print(np.shape(merged))\n",
    "    shiftX = -leftBound if leftBound < 0 else 0\n",
    "    shiftY = -topBound if topBound < 0 else 0\n",
    "    for imageIndex,image in enumerate(imageList):\n",
    "        XtoBeShifted = abs(leftBound) - shiftList[imageIndex][0]\n",
    "        YtoBeShifted = abs(topBound) - shiftList[imageIndex][1]\n",
    "        print(imageIndex,XtoBeShifted,YtoBeShifted)\n",
    "        for row in range(len(image)-1):\n",
    "            for column in range(len(image[row])-1):\n",
    "                x=XtoBeShifted + column\n",
    "                y=YtoBeShifted + row\n",
    "                #if row == 0 or column == 0 or row == len(image)-2 or column == len(image[row])-2:\n",
    "                merged[y][x] = blend(image[row][column],merged[y][x])\n",
    "                #else:\n",
    "                #    merged[y][x] = image[row][column]\n",
    "    return merged,(shiftX,shiftY),(xAxisRange,yAxisRange)"
   ]
  },
  {
   "cell_type": "code",
   "execution_count": 12,
   "id": "86fc07c2-549e-436b-8b5a-85b5218fd893",
   "metadata": {},
   "outputs": [],
   "source": [
    "def fwarp(image,homography):\n",
    "    wrapped = np.zeros(np.shape(image))\n",
    "    newPositions = []\n",
    "    for i in range(len(image)):\n",
    "        for j in range(len(image[i])):\n",
    "            coordinates = np.matmul(homography, np.array([[i],[j],[1]]))\n",
    "            newPositions.append(coordinates* (1/coordinates[2][0]))\n",
    "    return np.asarray(newPositions).reshape(np.shape(np.asarray(image)))[:,:,0:2]"
   ]
  },
  {
   "cell_type": "code",
   "execution_count": 13,
   "id": "3829557f-0d36-4991-aff6-cf177a08527d",
   "metadata": {},
   "outputs": [],
   "source": [
    "def construct(image,wrap):\n",
    "    res = np.round(wrap)\n",
    "    x_min = np.amin(res[:,:,0])\n",
    "    y_min = np.amin(res[:,:,1])\n",
    "    res[:,:,0] = res[:,:,0] + np.abs(x_min)\n",
    "    res[:,:,1] = res[:,:,1] + np.abs(y_min)\n",
    "    x_max = np.amax(res[:,:,0]).astype(int)\n",
    "    y_max = np.amax(res[:,:,1]).astype(int)\n",
    "    res = res.astype(int)\n",
    "    print(x_max,y_max)\n",
    "    scale_X = (len(image) / x_max) \n",
    "    scale_Y = (len(image[0]) / y_max)\n",
    "    projected = np.zeros(np.shape(image))\n",
    "    for i in range(len(image)):\n",
    "        for j in range(len(image[i])):\n",
    "            c = res[i][j]\n",
    "            #print(int(c[0] * scale_X), int(c[1] * scale_Y) )\n",
    "            projected[int(c[0] * scale_X)-1][int(c[1] * scale_Y)-1] = image[i][j]\n",
    "    return projected"
   ]
  },
  {
   "cell_type": "code",
   "execution_count": 14,
   "id": "554e2470-0c66-4010-88d0-0d849016d9d2",
   "metadata": {},
   "outputs": [],
   "source": [
    "def homography(fileName):\n",
    "    with open(fileName, 'rb') as f:\n",
    "        p23_3 = np.load(f)\n",
    "        p23_2 = np.load(f)\n",
    "    \n",
    "    A = computeH(p23_3,p23_2)\n",
    "    u, s, vh = np.linalg.svd(A, full_matrices=True)\n",
    "    return vh[-1].reshape(3,3)"
   ]
  },
  {
   "cell_type": "code",
   "execution_count": 15,
   "id": "c74fdc78-6cd9-4174-b237-7f8d7c824766",
   "metadata": {},
   "outputs": [],
   "source": [
    "def printImage(imageMatrix,outFileName=\"output.jpg\"):\n",
    "    imgResult = Image.fromarray(imageMatrix.astype(np.uint8), 'RGB')\n",
    "    imgResult.save(outFileName)"
   ]
  },
  {
   "cell_type": "markdown",
   "id": "f5238520-dd49-43b1-b0c2-7269548a37cf",
   "metadata": {},
   "source": [
    "## Paris"
   ]
  },
  {
   "cell_type": "code",
   "execution_count": 163,
   "id": "bc2f3fac-f65b-43cb-84aa-a1ce596cf629",
   "metadata": {},
   "outputs": [],
   "source": [
    "imageParis1 = Image.open(\"paris/paris_a.jpg\")\n",
    "imageParis2 = Image.open(\"paris/paris_b.jpg\")\n",
    "imageParis3 = Image.open(\"paris/paris_c.jpg\")\n",
    "img1Paris = np.asarray(imageParis1)\n",
    "img2Paris= np.asarray(imageParis2)\n",
    "img3Paris = np.asarray(imageParis3)"
   ]
  },
  {
   "cell_type": "code",
   "execution_count": 168,
   "id": "d63be219-3505-441b-b19a-35d961fd722d",
   "metadata": {},
   "outputs": [],
   "source": [
    "homography_12 = homography('paris1-2_15points.npy')\n",
    "homography_32 = homography('paris2-3_10points.npy')"
   ]
  },
  {
   "cell_type": "code",
   "execution_count": 173,
   "id": "35f444f1-89bd-4c9c-a148-b68cce7ef6a3",
   "metadata": {},
   "outputs": [],
   "source": [
    "warpRight,offsetRight,coordinateRangeRight = warp(img3Paris,homography_32)\n",
    "warpLeft,offsetLeft,coordinateRangeLeft = warp(img1Paris,homography_12)"
   ]
  },
  {
   "cell_type": "code",
   "execution_count": 174,
   "id": "98bf55d9-f7a1-487b-a011-1f8791e4456a",
   "metadata": {},
   "outputs": [
    {
     "name": "stdout",
     "output_type": "stream",
     "text": [
      "-627 995 -237 599\n",
      "(836, 1622, 3)\n",
      "0 627 174\n",
      "1 0 0\n",
      "2 627 237\n"
     ]
    }
   ],
   "source": [
    "mergedAll, shifts, = mergeImages([warpRight,warpLeft,img2Paris],[offsetRight,offsetLeft,(0,0)],[coordinateRangeRight,coordinateRangeLeft,((0,len(img2Paris[0])),(0,len(img2Paris)))])\n",
    "printImage(mergedAll,'paris/parisOutput.jpg')"
   ]
  },
  {
   "cell_type": "markdown",
   "id": "1053be38-12f6-48ae-a950-9c14494fa58d",
   "metadata": {},
   "source": [
    "## NORTH Campus"
   ]
  },
  {
   "cell_type": "code",
   "execution_count": 27,
   "id": "ed13a9cc-0157-4a59-97d6-798c785ad87c",
   "metadata": {},
   "outputs": [],
   "source": [
    "image1 = Image.open(\"north_campus/left_2.jpg\")\n",
    "image2 = Image.open(\"north_campus/left_1.jpg\")\n",
    "image3 = Image.open(\"north_campus/middle.jpg\")\n",
    "image4 = Image.open(\"north_campus/right_1.jpg\")\n",
    "image5 = Image.open(\"north_campus/right_2.jpg\")\n",
    "img1 = np.asarray(image1)\n",
    "img2 = np.asarray(image2)\n",
    "img3 = np.asarray(image3)\n",
    "img4 = np.asarray(image4)\n",
    "img5 = np.asarray(image5)"
   ]
  },
  {
   "cell_type": "code",
   "execution_count": 28,
   "id": "b3a5d456-f21a-4849-8a72-af695714c0e4",
   "metadata": {},
   "outputs": [],
   "source": [
    "homography_12 = homography('campusleft2_left1_10points.npy')\n",
    "homography_23 = homography('campusleft1_middle_5points.npy')\n",
    "homography_43 = homography('campusright1_middle_5points.npy')\n",
    "homography_54 = homography('campusright2_right1_10points.npy')"
   ]
  },
  {
   "cell_type": "markdown",
   "id": "57de517c-ee2b-4ee8-9369-934f7738d956",
   "metadata": {},
   "source": [
    "### Left1 and Right1 to Middle"
   ]
  },
  {
   "cell_type": "code",
   "execution_count": 29,
   "id": "d3ffcb3e-0a65-4c1c-9403-a12f207dd4e3",
   "metadata": {},
   "outputs": [],
   "source": [
    "warpRight,offsetRight,coordinateRangeRight = warp(img4,homography_43)\n",
    "warpLeft,offsetLeft,coordinateRangeLeft = warp(img2,homography_23)"
   ]
  },
  {
   "cell_type": "code",
   "execution_count": 30,
   "id": "d4159f54-302d-4633-84ea-f3274f20581a",
   "metadata": {},
   "outputs": [
    {
     "name": "stdout",
     "output_type": "stream",
     "text": [
      "-975 2057 -84 866\n",
      "(950, 3032, 3)\n",
      "0 975 18\n",
      "1 0 0\n",
      "2 975 84\n"
     ]
    }
   ],
   "source": [
    "mergedAll,shifts, ranges = mergeImages([warpRight,warpLeft,img3],[offsetRight,offsetLeft,(0,0)],[coordinateRangeRight,coordinateRangeLeft,((0,len(img3[0])),(0,len(img3)))])\n",
    "printImage(mergedAll,'north_campus/middle_out/mosaic_1.jpg')"
   ]
  },
  {
   "cell_type": "code",
   "execution_count": 200,
   "id": "d9ad04dc-e660-4a88-b9ce-f7bf4d880696",
   "metadata": {},
   "outputs": [
    {
     "name": "stdout",
     "output_type": "stream",
     "text": [
      "-975 1280 -84 866\n",
      "(950, 2255, 3)\n",
      "0 0 0\n",
      "1 975 84\n"
     ]
    }
   ],
   "source": [
    "printImage(warpLeft,'north_campus/warped_left.jpg')\n",
    "mergedAll,shifts,ranges = mergeImages([warpLeft,img3],[offsetLeft,(0,0)],[coordinateRangeLeft,((0,len(img3[0])),(0,len(img3)))])\n",
    "printImage(mergedAll,'north_campus/middle_out/mosaic_left.jpg')"
   ]
  },
  {
   "cell_type": "code",
   "execution_count": 31,
   "id": "7cce4485-2f30-4d44-96cd-20745f973baf",
   "metadata": {},
   "outputs": [],
   "source": [
    "wr_left2,offset4,coordinateRange4 = warp(img1,np.matmul(homography_23,homography_12))\n",
    "wr_right2,offset5,coordinateRange5 = warp(img5,np.matmul(homography_43,homography_54))"
   ]
  },
  {
   "cell_type": "code",
   "execution_count": 124,
   "id": "036cc909-5548-433d-af34-211e29755ac8",
   "metadata": {},
   "outputs": [],
   "source": []
  },
  {
   "cell_type": "code",
   "execution_count": 32,
   "id": "61011fc5-bc2b-41bc-813b-9d068b574046",
   "metadata": {},
   "outputs": [
    {
     "name": "stdout",
     "output_type": "stream",
     "text": [
      "-8039 2842 -1112 1595\n",
      "(2707, 10881, 3)\n",
      "0 8039 953\n",
      "1 0 0\n",
      "2 7064 1028\n"
     ]
    },
    {
     "ename": "AttributeError",
     "evalue": "'tuple' object has no attribute 'astype'",
     "output_type": "error",
     "traceback": [
      "\u001b[0;31m---------------------------------------------------------------------------\u001b[0m",
      "\u001b[0;31mAttributeError\u001b[0m                            Traceback (most recent call last)",
      "Cell \u001b[0;32mIn [32], line 2\u001b[0m\n\u001b[1;32m      1\u001b[0m mergedImages \u001b[38;5;241m=\u001b[39m mergeImages([wr_right2,wr_left2,mergedAll],[offset5,offset4,shifts],[coordinateRange4,coordinateRange5,ranges])\n\u001b[0;32m----> 2\u001b[0m imgResult \u001b[38;5;241m=\u001b[39m Image\u001b[38;5;241m.\u001b[39mfromarray(mergedImages\u001b[38;5;241m.\u001b[39mastype(np\u001b[38;5;241m.\u001b[39muint8), \u001b[38;5;124m'\u001b[39m\u001b[38;5;124mRGB\u001b[39m\u001b[38;5;124m'\u001b[39m)\n\u001b[1;32m      3\u001b[0m imgResult\u001b[38;5;241m.\u001b[39msave(\u001b[38;5;124m\"\u001b[39m\u001b[38;5;124mnorth_campus/mergedImages.jpg\u001b[39m\u001b[38;5;124m\"\u001b[39m)\n",
      "\u001b[0;31mAttributeError\u001b[0m: 'tuple' object has no attribute 'astype'"
     ]
    }
   ],
   "source": [
    "mergedImages = mergeImages([wr_right2,wr_left2,mergedAll],[offset5,offset4,shifts],[coordinateRange4,coordinateRange5,ranges])\n",
    "imgResult = Image.fromarray(mergedImages.astype(np.uint8), 'RGB')\n",
    "imgResult.save(\"north_campus/mergedImages.jpg\")"
   ]
  },
  {
   "cell_type": "code",
   "execution_count": 135,
   "id": "755e913c-0a00-4552-ac91-f81bed42d3d7",
   "metadata": {},
   "outputs": [
    {
     "name": "stdout",
     "output_type": "stream",
     "text": [
      "-8039 3032 -1112 1595\n",
      "(2707, 11071, 3)\n",
      "0 8039 953\n",
      "1 0 0\n",
      "2 8039 1112\n"
     ]
    }
   ],
   "source": [
    "image_mosaic = Image.open(\"north_campus/north_campus_mosaic1.jpg\")\n",
    "img_msc = np.asarray(image_mosaic)\n",
    "mergedImages = mergeImages([wr_right2,wr_left2,img_msc],[offset5,offset4,(0,0)],[coordinateRange4,coordinateRange5,((0,len(img_msc[0])),(0,len(img_msc)))])\n",
    "imgResult = Image.fromarray(mergedImages.astype(np.uint8), 'RGB')\n",
    "imgResult.save(\"north_campus/mergedImages3.jpg\")"
   ]
  },
  {
   "cell_type": "markdown",
   "id": "cb002dbf-918b-4bb4-9be9-904c76c60d0c",
   "metadata": {},
   "source": [
    "## CMPE Building"
   ]
  },
  {
   "cell_type": "code",
   "execution_count": 16,
   "id": "aba18ef8-934d-457f-b929-cfe6b338638e",
   "metadata": {},
   "outputs": [],
   "source": [
    "image1Cmpe = Image.open(\"cmpe_building/left_2.jpg\")\n",
    "image2Cmpe = Image.open(\"cmpe_building/left_1.jpg\")\n",
    "image3Cmpe= Image.open(\"cmpe_building/middle.jpg\")\n",
    "image4Cmpe= Image.open(\"cmpe_building/right_1.jpg\")\n",
    "image5Cmpe = Image.open(\"cmpe_building/right_2.jpg\")\n",
    "img1Cmpe = np.asarray(image1Cmpe)\n",
    "img2Cmpe = np.asarray(image2Cmpe)\n",
    "img3Cmpe = np.asarray(image3Cmpe)\n",
    "img4Cmpe = np.asarray(image4Cmpe)\n",
    "img5Cmpe = np.asarray(image5Cmpe)"
   ]
  },
  {
   "cell_type": "code",
   "execution_count": 17,
   "id": "1f8f1664-ca8a-43c1-8e61-7f1b45e0fd97",
   "metadata": {},
   "outputs": [],
   "source": [
    "homography_12 = homography('cmpe_building/cmpeleft2_left1_10points.npy')\n",
    "homography_23 = homography('cmpe_building/cmpeleft1_middle_30points.npy')\n",
    "homography_43 = homography('cmpe_building/cmperight1_middle_30points.npy')\n",
    "homography_54 = homography('cmpe_building/cmperight2_right1_10points.npy')"
   ]
  },
  {
   "cell_type": "markdown",
   "id": "cf88e1a6-2ec1-4533-900d-23e7fa3972cb",
   "metadata": {},
   "source": [
    "### Left1 and Right1 to Middle"
   ]
  },
  {
   "cell_type": "code",
   "execution_count": 18,
   "id": "518a26c5-6e37-4076-8487-62ac326d0913",
   "metadata": {},
   "outputs": [],
   "source": [
    "warpRight,offsetRight,coordinateRangeRight = warp(img4Cmpe,homography_43)\n",
    "warpLeft,offsetLeft,coordinateRangeLeft = warp(img2Cmpe,homography_23)"
   ]
  },
  {
   "cell_type": "code",
   "execution_count": 25,
   "id": "397e57c0-23eb-43ba-b02d-2691eadf4cd8",
   "metadata": {},
   "outputs": [
    {
     "name": "stdout",
     "output_type": "stream",
     "text": [
      "-231 1617 -48 1035\n",
      "(1083, 1848, 3)\n",
      "0 231 13\n",
      "1 0 0\n",
      "2 231 48\n"
     ]
    }
   ],
   "source": [
    "mergedAll,shifts, ranges = mergeImages([warpRight,warpLeft,img3Cmpe],[offsetRight,offsetLeft,(0,0)],[coordinateRangeRight,coordinateRangeLeft,((0,len(img3Cmpe[0])),(0,len(img3Cmpe)))])\n",
    "printImage(mergedAll,'cmpe_building/middle_out/mosaic_1.jpg')"
   ]
  },
  {
   "cell_type": "markdown",
   "id": "1203e65e-2ed6-4ce6-bb63-4e4913d84122",
   "metadata": {},
   "source": [
    "### Left2 and Right2 to Mosaic"
   ]
  },
  {
   "cell_type": "code",
   "execution_count": 20,
   "id": "69b5a494-b283-48df-833c-7b84bc11e299",
   "metadata": {},
   "outputs": [
    {
     "name": "stdout",
     "output_type": "stream",
     "text": [
      "(1498, 2320, 3)\n"
     ]
    }
   ],
   "source": [
    "warpRight2,offsetRight2,coordinateRangeRight2 = warp(img5Cmpe,np.matmul(homography_43,homography_54))\n",
    "print(np.shape(warpRight2))\n",
    "warpLeft2,offsetLeft2,coordinateRangeLeft2 = warp(img1Cmpe,np.matmul(homography_23,homography_12))"
   ]
  },
  {
   "cell_type": "code",
   "execution_count": 26,
   "id": "b5dae1a8-1a93-4ccd-ad98-d413390856f5",
   "metadata": {},
   "outputs": [
    {
     "name": "stdout",
     "output_type": "stream",
     "text": [
      "-519 2319 -123 1374\n",
      "(1497, 2838, 3)\n",
      "0 519 0\n",
      "1 0 25\n",
      "2 288 75\n"
     ]
    }
   ],
   "source": [
    "mergedTotal,shiftsT, rangesT = mergeImages([warpRight2,warpLeft2,mergedAll],[offsetRight2,offsetLeft2,shifts],[coordinateRangeRight2,coordinateRangeLeft2,ranges])\n",
    "printImage(mergedTotal,'cmpe_building/middle_out/totalwithMosaic.jpg')"
   ]
  },
  {
   "cell_type": "code",
   "execution_count": null,
   "id": "0335999d-6455-4095-a11c-789be7c4be99",
   "metadata": {},
   "outputs": [],
   "source": []
  }
 ],
 "metadata": {
  "kernelspec": {
   "display_name": "Python 3 (ipykernel)",
   "language": "python",
   "name": "python3"
  },
  "language_info": {
   "codemirror_mode": {
    "name": "ipython",
    "version": 3
   },
   "file_extension": ".py",
   "mimetype": "text/x-python",
   "name": "python",
   "nbconvert_exporter": "python",
   "pygments_lexer": "ipython3",
   "version": "3.8.10"
  }
 },
 "nbformat": 4,
 "nbformat_minor": 5
}
