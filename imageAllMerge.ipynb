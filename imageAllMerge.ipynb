{
 "cells": [
  {
   "cell_type": "code",
   "execution_count": 7,
   "id": "23bc88bc-6cf7-4058-94fc-31e52059622c",
   "metadata": {},
   "outputs": [],
   "source": [
    "from PIL import Image\n",
    "import matplotlib.pyplot as plt\n",
    "import numpy as np\n",
    "import sys"
   ]
  },
  {
   "cell_type": "code",
   "execution_count": 8,
   "id": "2ee00e5c-3c74-41fd-9210-890a5fbfed7d",
   "metadata": {},
   "outputs": [],
   "source": [
    "def computeH(points_im1, points_im2):\n",
    "    matrixA = []\n",
    "    for i in range(len(points_im1)):\n",
    "        xs, ys = points_im1[i][0], points_im1[i][1]\n",
    "        xd, yd = points_im2[i][0], points_im1[i][1]\n",
    "        two_nineMatrix = np.array([[xs, ys, 1,0,0,0, -xd*xs, -xd*ys, -xd],\n",
    "                                   [0,0,0,xs,ys,1,-yd*xs,-yd*ys,-yd]])\n",
    "        matrixA.append(two_nineMatrix[0])\n",
    "        matrixA.append(two_nineMatrix[1])\n",
    "    return matrixA"
   ]
  },
  {
   "cell_type": "code",
   "execution_count": 9,
   "id": "e842be96-e690-4ab6-8e85-546fbd9740ce",
   "metadata": {},
   "outputs": [],
   "source": [
    "def interpolation(image, x,y):\n",
    "    leftTopX, leftTopY, leftTopVal = int(x), int(y), image[int(x)][int(y)]\n",
    "    rightTopX, rightTopY, rightTopVal = int(x) +1 , int(y), image[int(x)+1][int(y)]\n",
    "    leftBottomX, leftBottomY, leftBottomVal = int(x), int(y)+1, image[int(x)][int(y)+1]\n",
    "    rightBottomX, rightBottomY, rightBottomVal = int(x)+1, int(y)+1, image[int(x)+1][int(y)+1]\n",
    "    a=x%1\n",
    "    b= int(y)+1 - y\n",
    "    return leftBottomVal * (1- a)*(1-b) + leftTopVal * (1-a) * b + rightBottomVal * a*(1-b) + rightTopVal * a *b"
   ]
  },
  {
   "cell_type": "code",
   "execution_count": 10,
   "id": "4bfbffc2-a913-44c0-ab86-039959e8a2f5",
   "metadata": {},
   "outputs": [],
   "source": [
    "def pixelIntensity(rgb):\n",
    "     return 0.299 * rgb[0] + 0.587 * rgb[1] + 0.114 * rgb[2]"
   ]
  },
  {
   "cell_type": "code",
   "execution_count": 11,
   "id": "33b3f6fb-4d9e-4532-a5a8-2b4a6a9ee6de",
   "metadata": {},
   "outputs": [],
   "source": [
    "def warp(image,homography):\n",
    "    t_inverse = np.linalg.inv(homography)\n",
    "    boundries = np.matmul(homography, np.array([[0,0,640,640],\n",
    "                                                [0,480,0,480],\n",
    "                                                [1,1,1,1]]))\n",
    "    boundriesDenormalized = np.matmul(boundries, np.diag(1/boundries[-1]))\n",
    "    print(boundriesDenormalized, np.shape(boundriesDenormalized))\n",
    "    inversed = np.matmul(t_inverse, boundriesDenormalized)\n",
    "    inversedNormalised = np.matmul(inversed, np.diag(1/inversed[-1]))\n",
    "    print(inversedNormalised)\n",
    "    newPositions = []\n",
    "    xAxisRange = (int(np.amin(boundriesDenormalized[0])),int(np.amax(boundriesDenormalized[0])))\n",
    "    minXIndex = np.where(boundriesDenormalized[0] == np.amin(boundriesDenormalized[0]))\n",
    "    print('minx',minXIndex, boundriesDenormalized[0][minXIndex], boundriesDenormalized[1][minXIndex] )\n",
    "    coordinates1 = np.matmul(t_inverse, np.array([[-539],[-136],[1]]))\n",
    "    print(\"coordinates1\",coordinates1 * (1/coordinates1[2][0]) )\n",
    "    yAxisRange = (int(np.amin(boundriesDenormalized[1])),int(np.amax(boundriesDenormalized[1])))\n",
    "    xAxisRange = (int(np.amin(boundriesDenormalized[0])),int(np.amax(boundriesDenormalized[0])))\n",
    "    print(xAxisRange,yAxisRange)\n",
    "    width = xAxisRange[1]-xAxisRange[0]\n",
    "    height = yAxisRange[1]-yAxisRange[0]\n",
    "    shiftX = -xAxisRange[0] if xAxisRange[0] < 0 else 0\n",
    "    shiftY = -yAxisRange[0] if yAxisRange[0] < 0 else 0\n",
    "    wrapped = np.zeros((yAxisRange[1]+shiftY+1,xAxisRange[1]+shiftX+1,3))\n",
    "    print(height, width)\n",
    "    print('traverseIndex',height-1,width-1)\n",
    "    for h in range(len(wrapped)-1):\n",
    "        for w in range(len(wrapped[0])-1):\n",
    "            x = w - shiftX\n",
    "            y = h - shiftY\n",
    "            coordinates = np.matmul(t_inverse, np.array([[x],[y],[1]]))\n",
    "            coordinates = (coordinates* (1/coordinates[2][0]))[0:2]\n",
    "            if coordinates[0] > 0 and coordinates[1] > 0:\n",
    "                if int(coordinates[1]) < len(image)-1 and int(coordinates[0]) < len(image[0])-1:\n",
    "                    bilinearInterpolation  = interpolation(image,coordinates[1][0],coordinates[0][0])\n",
    "                    wrapped[h][w] = bilinearInterpolation\n",
    "    return np.asarray(wrapped), (shiftX,shiftY), (xAxisRange,yAxisRange)"
   ]
  },
  {
   "cell_type": "code",
   "execution_count": 12,
   "id": "028647ef-739b-4f9f-bec2-d4a74d572b5f",
   "metadata": {},
   "outputs": [],
   "source": [
    "def firstElements(elm):\n",
    "    return elm[0]"
   ]
  },
  {
   "cell_type": "code",
   "execution_count": 13,
   "id": "3d2ce188-55cc-40b7-b145-8e4ca1a11626",
   "metadata": {},
   "outputs": [],
   "source": [
    "def secondElements(elm):\n",
    "    return elm[1]"
   ]
  },
  {
   "cell_type": "code",
   "execution_count": 31,
   "id": "dd9d18d5-8e33-4e53-86e3-be7e1902594e",
   "metadata": {},
   "outputs": [],
   "source": [
    "def mergeImages(imageList, shiftList, x_yRange):\n",
    "    #leftBound = min(shiftList.map(firstElements).map(firstElements))\n",
    "    leftBound = min([*map(firstElements, [*map(firstElements, shiftList)])])\n",
    "    #rightBound = max(shiftList.map(firstElements).map(secondElements))\n",
    "    rightBound = max([*map(secondElements, [*map(firstElements, shiftList)])])\n",
    "    topBound = min(shiftList.map(secondElements).map(firstElements))\n",
    "    bottomBound = max(shiftList.map(secondElements).map(secondElements))\n",
    "    merged = np.zeros(( bottomBound - topBound, rightBound - leftBound, 3))\n",
    "    for imageIndex,image in enumerate(imageList):\n",
    "        XtoBeShifted = leftBound - shiftList[imageList][0]\n",
    "        YtoBeShifted = topBound - shiftList[imageList][1]\n",
    "        for row in range(len(image)-1):\n",
    "            for column in range(len(image[row])-1):\n",
    "                x=XtoBeShifted + column\n",
    "                y=YtoBeShifted + row\n",
    "                merged[y][x] = image[row][column]\n",
    "    \n",
    "    '''\n",
    "    print(offsets)\n",
    "    xOffset = offsets[0]\n",
    "    yOffset = offsets[1]\n",
    "    wWidth = np.shape(warped)[1]\n",
    "    wHeight = np.shape(warped)[0]\n",
    "    print(wWidth,wHeight)\n",
    "    xLimit = wWidth + xOffset\n",
    "    yLimit = wHeight + yOffset\n",
    "    mergedX = max(len(image[0]), xLimit)\n",
    "    mergedY = max(len(image), yLimit)\n",
    "    shiftImageX = -xOffset if xOffset < 0 else 0\n",
    "    shiftImageY = -yOffset if yOffset < 0 else 0\n",
    "    merged = np.zeros(( mergedY + shiftImageY, mergedX + shiftImageX,3))\n",
    "    print(\"warpedShape\", np.shape(warped), 0 + xOffset, 0 + yOffset)\n",
    "    print(\"mergedShape:\",np.shape(merged))\n",
    "    shiftX = 0 if xOffset < 0 else xOffset\n",
    "    shiftY = 0 if yOffset < 0 else yOffset\n",
    "    \n",
    "    for i in range(len(warped)-1):\n",
    "        for j in range(len(warped[0])-1):\n",
    "            x = j + shiftX\n",
    "            y = i + shiftY\n",
    "            try:\n",
    "                #a = 8\n",
    "                merged[y][x] = warped[i][j]\n",
    "            except:\n",
    "                print(\"i,j\",i,j, \"x,y\",x,y)                    \n",
    "    print(np.shape(merged),mergedX,mergedY)\n",
    "    overlapped = warped[-yOffset:,-xOffset:]\n",
    "    shiftImageX = -xOffset if xOffset < 0 else 0\n",
    "    shiftImageY = -yOffset if yOffset < 0 else 0\n",
    "    for i in range(len(image)-1):\n",
    "        for j in range(len(image[1])-1):\n",
    "            x = j + shiftImageX\n",
    "            y = i + shiftImageY\n",
    "            try:\n",
    "                imageLuminance = pixelIntensity(image[i][j])\n",
    "                warpedLuminance = pixelIntensity(merged[y][x])\n",
    "                #print(\"i,j\",i,j, \"x,y\",x,y)\n",
    "                if imageLuminance >= warpedLuminance:\n",
    "                    merged[y][x] = image[i][j]    \n",
    "            except:\n",
    "                print(\"i,j\",i,j, \"x,y\",x,y) \n",
    "    print(np.shape(overlapped))\n",
    "    '''\n",
    "    #warped[-yOffset:,-xOffset:] = image[:yLimit,:xLimit]\n",
    "    \n",
    "    '''\n",
    "    for i in range(len(overlapped)):\n",
    "        for j in range(len(overlapped[0])):\n",
    "    '''        \n",
    "    return merged"
   ]
  },
  {
   "cell_type": "code",
   "execution_count": 15,
   "id": "bc2f3fac-f65b-43cb-84aa-a1ce596cf629",
   "metadata": {},
   "outputs": [],
   "source": [
    "image1 = Image.open(\"paris/paris_a.jpg\")\n",
    "image2 = Image.open(\"paris/paris_b.jpg\")\n",
    "image3 = Image.open(\"paris/paris_c.jpg\")\n",
    "img1 = np.asarray(image1)\n",
    "img2 = np.asarray(image2)\n",
    "img3 = np.asarray(image3)\n",
    "#plt.imshow(image)\n",
    "#points = plt.ginput(5, show_clicks=True)"
   ]
  },
  {
   "cell_type": "code",
   "execution_count": 16,
   "id": "7c9d8b47-dae4-4949-ba7c-61ebfe443c2d",
   "metadata": {},
   "outputs": [],
   "source": [
    "with open('paris2-3_15points.npy', 'rb') as f:\n",
    "    p23_2 = np.load(f)\n",
    "    p23_3 = np.load(f)\n",
    "A32 = computeH(p23_3,p23_2)"
   ]
  },
  {
   "cell_type": "code",
   "execution_count": 17,
   "id": "5fcf0046-0e03-45d7-93e8-4e9b8cbcb550",
   "metadata": {},
   "outputs": [],
   "source": [
    "with open('paris1-2_15points.npy', 'rb') as f:\n",
    "    p12_1 = np.load(f)\n",
    "    p12_2 = np.load(f)\n",
    "A12 = computeH(p12_1,p12_2)"
   ]
  },
  {
   "cell_type": "code",
   "execution_count": 18,
   "id": "86fc07c2-549e-436b-8b5a-85b5218fd893",
   "metadata": {},
   "outputs": [],
   "source": [
    "def fwarp(image,homography):\n",
    "    wrapped = np.zeros(np.shape(image))\n",
    "    newPositions = []\n",
    "    for i in range(len(image)):\n",
    "        for j in range(len(image[i])):\n",
    "            coordinates = np.matmul(homography, np.array([[i],[j],[1]]))\n",
    "            newPositions.append(coordinates* (1/coordinates[2][0]))\n",
    "    return np.asarray(newPositions).reshape(np.shape(np.asarray(image)))[:,:,0:2]"
   ]
  },
  {
   "cell_type": "code",
   "execution_count": 19,
   "id": "3829557f-0d36-4991-aff6-cf177a08527d",
   "metadata": {},
   "outputs": [],
   "source": [
    "def construct(image,wrap):\n",
    "    res = np.round(wrap)\n",
    "    x_min = np.amin(res[:,:,0])\n",
    "    y_min = np.amin(res[:,:,1])\n",
    "    res[:,:,0] = res[:,:,0] + np.abs(x_min)\n",
    "    res[:,:,1] = res[:,:,1] + np.abs(y_min)\n",
    "    x_max = np.amax(res[:,:,0]).astype(int)\n",
    "    y_max = np.amax(res[:,:,1]).astype(int)\n",
    "    res = res.astype(int)\n",
    "    print(x_max,y_max)\n",
    "    scale_X = (len(image) / x_max) \n",
    "    scale_Y = (len(image[0]) / y_max)\n",
    "    projected = np.zeros(np.shape(image))\n",
    "    for i in range(len(image)):\n",
    "        for j in range(len(image[i])):\n",
    "            c = res[i][j]\n",
    "            #print(int(c[0] * scale_X), int(c[1] * scale_Y) )\n",
    "            projected[int(c[0] * scale_X)-1][int(c[1] * scale_Y)-1] = image[i][j]\n",
    "    return projected"
   ]
  },
  {
   "cell_type": "code",
   "execution_count": 20,
   "id": "d63be219-3505-441b-b19a-35d961fd722d",
   "metadata": {},
   "outputs": [],
   "source": [
    "u, s, vh = np.linalg.svd(A12, full_matrices=True)\n",
    "homography_12 = vh[-1].reshape(3,3)\n",
    "u, s, vh = np.linalg.svd(A32, full_matrices=True)\n",
    "homography_32 = vh[-1].reshape(3,3)"
   ]
  },
  {
   "cell_type": "code",
   "execution_count": 21,
   "id": "35f444f1-89bd-4c9c-a148-b68cce7ef6a3",
   "metadata": {},
   "outputs": [
    {
     "name": "stdout",
     "output_type": "stream",
     "text": [
      "[[ 2.40438547e+02  2.31928792e+02  9.51966722e+02  1.06874375e+03]\n",
      " [ 5.92873743e+01  4.61305589e+02 -7.46738233e+01  5.69077048e+02]\n",
      " [ 1.00000000e+00  1.00000000e+00  1.00000000e+00  1.00000000e+00]] (3, 4)\n",
      "[[ 5.87614029e-14  5.29061326e-14  6.40000000e+02  6.40000000e+02]\n",
      " [-2.93807014e-14  4.80000000e+02  0.00000000e+00  4.80000000e+02]\n",
      " [ 1.00000000e+00  1.00000000e+00  1.00000000e+00  1.00000000e+00]]\n",
      "minx (array([1]),) [231.92879204] [461.30558916]\n",
      "coordinates1 [[-3.84947567e+03]\n",
      " [-1.58840976e+03]\n",
      " [ 1.00000000e+00]]\n",
      "(231, 1068) (-74, 569)\n",
      "643 837\n",
      "traverseIndex 642 836\n",
      "[[-627.92324797 -564.88056077  349.31766097  332.95474344]\n",
      " [-237.83269379  599.22461605   36.44702435  454.33712138]\n",
      " [   1.            1.            1.            1.        ]] (3, 4)\n",
      "[[2.11358280e-14 0.00000000e+00 6.40000000e+02 6.40000000e+02]\n",
      " [1.80043239e-15 4.80000000e+02 3.31629054e-14 4.80000000e+02]\n",
      " [1.00000000e+00 1.00000000e+00 1.00000000e+00 1.00000000e+00]]\n",
      "minx (array([0]),) [-627.92324797] [-237.83269379]\n",
      "coordinates1 [[28.11816099]\n",
      " [42.91639869]\n",
      " [ 1.        ]]\n",
      "(-627, 349) (-237, 599)\n",
      "836 976\n",
      "traverseIndex 835 975\n"
     ]
    }
   ],
   "source": [
    "wr1,offset1,coordinateRange1 = warp(img3,homography_32)\n",
    "wr2,offset2,coordinateRange2 = warp(img1,homography_12)"
   ]
  },
  {
   "cell_type": "code",
   "execution_count": 32,
   "id": "98bf55d9-f7a1-487b-a011-1f8791e4456a",
   "metadata": {},
   "outputs": [
    {
     "ename": "TypeError",
     "evalue": "'int' object is not subscriptable",
     "output_type": "error",
     "traceback": [
      "\u001b[0;31m---------------------------------------------------------------------------\u001b[0m",
      "\u001b[0;31mTypeError\u001b[0m                                 Traceback (most recent call last)",
      "\u001b[0;32m/tmp/ipykernel_31622/4181567791.py\u001b[0m in \u001b[0;36m<module>\u001b[0;34m\u001b[0m\n\u001b[0;32m----> 1\u001b[0;31m \u001b[0mmergeImages\u001b[0m\u001b[0;34m(\u001b[0m\u001b[0;34m[\u001b[0m\u001b[0mimg2\u001b[0m\u001b[0;34m,\u001b[0m\u001b[0mwr1\u001b[0m\u001b[0;34m,\u001b[0m\u001b[0mwr2\u001b[0m\u001b[0;34m]\u001b[0m\u001b[0;34m,\u001b[0m\u001b[0;34m[\u001b[0m\u001b[0;34m(\u001b[0m\u001b[0;36m0\u001b[0m\u001b[0;34m,\u001b[0m\u001b[0;36m0\u001b[0m\u001b[0;34m)\u001b[0m\u001b[0;34m,\u001b[0m\u001b[0moffset1\u001b[0m\u001b[0;34m,\u001b[0m\u001b[0moffset2\u001b[0m\u001b[0;34m]\u001b[0m\u001b[0;34m,\u001b[0m\u001b[0;34m[\u001b[0m\u001b[0;34m(\u001b[0m\u001b[0;34m(\u001b[0m\u001b[0;36m0\u001b[0m\u001b[0;34m,\u001b[0m\u001b[0;36m640\u001b[0m\u001b[0;34m)\u001b[0m\u001b[0;34m,\u001b[0m\u001b[0;34m(\u001b[0m\u001b[0;36m0\u001b[0m\u001b[0;34m,\u001b[0m\u001b[0;36m480\u001b[0m\u001b[0;34m)\u001b[0m\u001b[0;34m)\u001b[0m\u001b[0;34m,\u001b[0m\u001b[0mcoordinateRange1\u001b[0m\u001b[0;34m,\u001b[0m\u001b[0mcoordinateRange2\u001b[0m\u001b[0;34m]\u001b[0m\u001b[0;34m)\u001b[0m\u001b[0;34m\u001b[0m\u001b[0;34m\u001b[0m\u001b[0m\n\u001b[0m",
      "\u001b[0;32m/tmp/ipykernel_31622/1317797376.py\u001b[0m in \u001b[0;36mmergeImages\u001b[0;34m(imageList, shiftList, x_yRange)\u001b[0m\n\u001b[1;32m      1\u001b[0m \u001b[0;32mdef\u001b[0m \u001b[0mmergeImages\u001b[0m\u001b[0;34m(\u001b[0m\u001b[0mimageList\u001b[0m\u001b[0;34m,\u001b[0m \u001b[0mshiftList\u001b[0m\u001b[0;34m,\u001b[0m \u001b[0mx_yRange\u001b[0m\u001b[0;34m)\u001b[0m\u001b[0;34m:\u001b[0m\u001b[0;34m\u001b[0m\u001b[0;34m\u001b[0m\u001b[0m\n\u001b[1;32m      2\u001b[0m     \u001b[0;31m#leftBound = min(shiftList.map(firstElements).map(firstElements))\u001b[0m\u001b[0;34m\u001b[0m\u001b[0;34m\u001b[0m\u001b[0;34m\u001b[0m\u001b[0m\n\u001b[0;32m----> 3\u001b[0;31m     \u001b[0mleftBound\u001b[0m \u001b[0;34m=\u001b[0m \u001b[0mmin\u001b[0m\u001b[0;34m(\u001b[0m\u001b[0;34m[\u001b[0m\u001b[0;34m*\u001b[0m\u001b[0mmap\u001b[0m\u001b[0;34m(\u001b[0m\u001b[0mfirstElements\u001b[0m\u001b[0;34m,\u001b[0m \u001b[0;34m[\u001b[0m\u001b[0;34m*\u001b[0m\u001b[0mmap\u001b[0m\u001b[0;34m(\u001b[0m\u001b[0mfirstElements\u001b[0m\u001b[0;34m,\u001b[0m \u001b[0mshiftList\u001b[0m\u001b[0;34m)\u001b[0m\u001b[0;34m]\u001b[0m\u001b[0;34m)\u001b[0m\u001b[0;34m]\u001b[0m\u001b[0;34m)\u001b[0m\u001b[0;34m\u001b[0m\u001b[0;34m\u001b[0m\u001b[0m\n\u001b[0m\u001b[1;32m      4\u001b[0m     \u001b[0;31m#rightBound = max(shiftList.map(firstElements).map(secondElements))\u001b[0m\u001b[0;34m\u001b[0m\u001b[0;34m\u001b[0m\u001b[0;34m\u001b[0m\u001b[0m\n\u001b[1;32m      5\u001b[0m     \u001b[0mrightBound\u001b[0m \u001b[0;34m=\u001b[0m \u001b[0mmax\u001b[0m\u001b[0;34m(\u001b[0m\u001b[0;34m[\u001b[0m\u001b[0;34m*\u001b[0m\u001b[0mmap\u001b[0m\u001b[0;34m(\u001b[0m\u001b[0msecondElements\u001b[0m\u001b[0;34m,\u001b[0m \u001b[0;34m[\u001b[0m\u001b[0;34m*\u001b[0m\u001b[0mmap\u001b[0m\u001b[0;34m(\u001b[0m\u001b[0mfirstElements\u001b[0m\u001b[0;34m,\u001b[0m \u001b[0mshiftList\u001b[0m\u001b[0;34m)\u001b[0m\u001b[0;34m]\u001b[0m\u001b[0;34m)\u001b[0m\u001b[0;34m]\u001b[0m\u001b[0;34m)\u001b[0m\u001b[0;34m\u001b[0m\u001b[0;34m\u001b[0m\u001b[0m\n",
      "\u001b[0;32m/tmp/ipykernel_31622/678711951.py\u001b[0m in \u001b[0;36mfirstElements\u001b[0;34m(elm)\u001b[0m\n\u001b[1;32m      1\u001b[0m \u001b[0;32mdef\u001b[0m \u001b[0mfirstElements\u001b[0m\u001b[0;34m(\u001b[0m\u001b[0melm\u001b[0m\u001b[0;34m)\u001b[0m\u001b[0;34m:\u001b[0m\u001b[0;34m\u001b[0m\u001b[0;34m\u001b[0m\u001b[0m\n\u001b[0;32m----> 2\u001b[0;31m     \u001b[0;32mreturn\u001b[0m \u001b[0melm\u001b[0m\u001b[0;34m[\u001b[0m\u001b[0;36m0\u001b[0m\u001b[0;34m]\u001b[0m\u001b[0;34m\u001b[0m\u001b[0;34m\u001b[0m\u001b[0m\n\u001b[0m",
      "\u001b[0;31mTypeError\u001b[0m: 'int' object is not subscriptable"
     ]
    }
   ],
   "source": [
    "mergeImages([img2,wr1,wr2],[(0,0),offset1,offset2],[((0,640),(0,480)),coordinateRange1,coordinateRange2])"
   ]
  },
  {
   "cell_type": "code",
   "execution_count": 39,
   "id": "d339e56f-62fc-42d6-8888-f32cfbbbad66",
   "metadata": {},
   "outputs": [],
   "source": [
    "imgResult = Image.fromarray(back_res.astype(np.uint8), 'RGB')\n",
    "imgResult.save(\"warpedleft.jpg\")"
   ]
  },
  {
   "cell_type": "code",
   "execution_count": 360,
   "id": "57de2722-137f-4ff7-a0a0-ac079cd0891a",
   "metadata": {},
   "outputs": [
    {
     "name": "stdout",
     "output_type": "stream",
     "text": [
      "(231, -74)\n",
      "838 644\n",
      "warpedShape (644, 838, 3) 231 -74\n",
      "mergedShape: (644, 1069, 3)\n",
      "(644, 1069, 3) 1069 570\n",
      "(570, 231, 3)\n",
      "sonuc (644, 1069, 3)\n"
     ]
    }
   ],
   "source": [
    "overlapped = mergeImages(back_res, img1, offset)\n",
    "print(\"sonuc\", np.shape(overlapped))\n",
    "imgResult = Image.fromarray(overlapped.astype(np.uint8), 'RGB')\n",
    "imgResult.save(\"overlapped.jpg\")"
   ]
  },
  {
   "cell_type": "code",
   "execution_count": null,
   "id": "32399e9c-6f7b-4516-8507-49ea5423b181",
   "metadata": {},
   "outputs": [],
   "source": []
  },
  {
   "cell_type": "code",
   "execution_count": 11,
   "id": "5413cd3a-2ade-4e5c-b8ad-f9f25990bbc9",
   "metadata": {},
   "outputs": [
    {
     "data": {
      "text/plain": [
       "'\\nprint(s)\\nhomography = vh[-1].reshape(3,3)\\nprint(homography)\\n\\nhomography = np.array(\\n    [[ 2.06417031e+00, -1.09152156e-01, -5.91002794e+02],\\n [ 4.98137666e-01,  1.73071462e+00, -2.18682112e+02],\\n [ 1.70508897e-03, -9.86837491e-05,  1.00000000e+00]])\\n '"
      ]
     },
     "execution_count": 11,
     "metadata": {},
     "output_type": "execute_result"
    }
   ],
   "source": [
    "'''\n",
    "print(s)\n",
    "homography = vh[-1].reshape(3,3)\n",
    "print(homography)\n",
    "\n",
    "homography = np.array(\n",
    "    [[ 2.06417031e+00, -1.09152156e-01, -5.91002794e+02],\n",
    " [ 4.98137666e-01,  1.73071462e+00, -2.18682112e+02],\n",
    " [ 1.70508897e-03, -9.86837491e-05,  1.00000000e+00]])\n",
    " '''"
   ]
  },
  {
   "cell_type": "code",
   "execution_count": 45,
   "id": "a9111360-0305-41a4-995f-f1796749906e",
   "metadata": {},
   "outputs": [
    {
     "data": {
      "text/plain": [
       "(0, 74)"
      ]
     },
     "execution_count": 45,
     "metadata": {},
     "output_type": "execute_result"
    }
   ],
   "source": [
    "offset"
   ]
  },
  {
   "cell_type": "code",
   "execution_count": 147,
   "id": "9bc7a518-7963-4573-8e45-74ad6bbcdbca",
   "metadata": {},
   "outputs": [
    {
     "data": {
      "text/plain": [
       "(237, 627, 3)"
      ]
     },
     "execution_count": 147,
     "metadata": {},
     "output_type": "execute_result"
    }
   ],
   "source": [
    "np.shape(overlapped)"
   ]
  },
  {
   "cell_type": "code",
   "execution_count": 121,
   "id": "891f0676-3b1a-49fb-8f5c-3e961c79c91f",
   "metadata": {},
   "outputs": [
    {
     "data": {
      "text/plain": [
       "(837, 977, 3)"
      ]
     },
     "execution_count": 121,
     "metadata": {},
     "output_type": "execute_result"
    }
   ],
   "source": [
    "np.shape(back_res)\n",
    " .299r' + .587g' + .114b'"
   ]
  },
  {
   "cell_type": "code",
   "execution_count": 93,
   "id": "135258be-777f-4af3-9b7f-5145110c8d98",
   "metadata": {},
   "outputs": [
    {
     "data": {
      "text/plain": [
       "array([114.74235712, 140.90942738, 167.90942738])"
      ]
     },
     "execution_count": 93,
     "metadata": {},
     "output_type": "execute_result"
    }
   ],
   "source": [
    "back_res[1][0]"
   ]
  },
  {
   "cell_type": "code",
   "execution_count": 23,
   "id": "9266499c-53a6-428b-a0a4-f02b2b97d1fa",
   "metadata": {},
   "outputs": [
    {
     "name": "stdout",
     "output_type": "stream",
     "text": [
      "3388 2739\n"
     ]
    }
   ],
   "source": [
    "imageMatrix=construct(im,res)\n",
    "imgResult = Image.fromarray(imageMatrix.astype(np.uint8), 'RGB')\n",
    "imgResult.save(\"10transform.jpg\")"
   ]
  },
  {
   "cell_type": "code",
   "execution_count": 24,
   "id": "8b098dee-36db-4ffb-ae75-8394ca258097",
   "metadata": {},
   "outputs": [
    {
     "name": "stdout",
     "output_type": "stream",
     "text": [
      "-3138.7226735397476 248.77620614530588\n",
      "-136.12788992140727 2602.759349287685\n"
     ]
    }
   ],
   "source": [
    "print(np.amin(res[:,:,0]),np.amax(res[:,:,0]))\n",
    "print(np.amin(res[:,:,1]),np.amax(res[:,:,1]))"
   ]
  },
  {
   "cell_type": "code",
   "execution_count": 51,
   "id": "56db76da-d5fe-4103-acce-ae2284c5e7f6",
   "metadata": {},
   "outputs": [
    {
     "data": {
      "text/plain": [
       "(3, 1)"
      ]
     },
     "execution_count": 51,
     "metadata": {},
     "output_type": "execute_result"
    }
   ],
   "source": [
    "np.shape(np.array([[1],[2],[3]]))"
   ]
  },
  {
   "cell_type": "code",
   "execution_count": 61,
   "id": "aca37517-e74c-469a-b926-b4a9347c1157",
   "metadata": {},
   "outputs": [
    {
     "data": {
      "text/plain": [
       "4"
      ]
     },
     "execution_count": 61,
     "metadata": {},
     "output_type": "execute_result"
    }
   ],
   "source": [
    "int(4.6)"
   ]
  },
  {
   "cell_type": "code",
   "execution_count": 140,
   "id": "8e127a27-bb87-4183-90c5-a9fda820bd8b",
   "metadata": {},
   "outputs": [
    {
     "data": {
      "text/plain": [
       "0.7226700000001074"
      ]
     },
     "execution_count": 140,
     "metadata": {},
     "output_type": "execute_result"
    }
   ],
   "source": [
    "3138.72267%1"
   ]
  },
  {
   "cell_type": "code",
   "execution_count": null,
   "id": "3148b3d4-6cdb-49c7-a7c7-a3403144424e",
   "metadata": {},
   "outputs": [],
   "source": []
  }
 ],
 "metadata": {
  "kernelspec": {
   "display_name": "Python 3 (ipykernel)",
   "language": "python",
   "name": "python3"
  },
  "language_info": {
   "codemirror_mode": {
    "name": "ipython",
    "version": 3
   },
   "file_extension": ".py",
   "mimetype": "text/x-python",
   "name": "python",
   "nbconvert_exporter": "python",
   "pygments_lexer": "ipython3",
   "version": "3.9.5"
  }
 },
 "nbformat": 4,
 "nbformat_minor": 5
}
