{
 "cells": [
  {
   "cell_type": "code",
   "execution_count": 14,
   "id": "5b7b95fc-729d-4ed9-a725-6f555eebac1f",
   "metadata": {},
   "outputs": [],
   "source": [
    "# importing the required libraries\n",
    "import cv2\n",
    "import numpy as np\n",
    "from PIL import Image"
   ]
  },
  {
   "cell_type": "code",
   "execution_count": 24,
   "id": "a5195b90-4c79-47d7-aee8-af1c405b005e",
   "metadata": {},
   "outputs": [],
   "source": [
    "image = Image.open(\"paris/paris_a.jpg\")\n",
    "image2 = Image.open(\"paris/paris_b.jpg\")"
   ]
  },
  {
   "cell_type": "code",
   "execution_count": 18,
   "id": "a86c4e33-f875-4089-9a6a-3894eccbc4c0",
   "metadata": {},
   "outputs": [
    {
     "data": {
      "text/plain": [
       "(640, 480)"
      ]
     },
     "execution_count": 18,
     "metadata": {},
     "output_type": "execute_result"
    }
   ],
   "source": [
    "image.size"
   ]
  },
  {
   "cell_type": "code",
   "execution_count": 6,
   "id": "e867c793-0312-4b6e-94af-944166a8fe3a",
   "metadata": {},
   "outputs": [],
   "source": [
    "with open('paris1-2.npy', 'rb') as f:\n",
    "    a = np.load(f)\n",
    "    b = np.load(f)"
   ]
  },
  {
   "cell_type": "code",
   "execution_count": 7,
   "id": "9be9b253-f959-4194-8b5a-fd300479c913",
   "metadata": {},
   "outputs": [],
   "source": [
    "def computeH(points_im1, points_im2):\n",
    "    matrixA = []\n",
    "    for i in range(len(points_im1)):\n",
    "        xs, ys = points_im1[i][0], points_im1[i][1]\n",
    "        xd, yd = points_im2[i][0], points_im1[i][1]\n",
    "        two_nineMatrix = np.array([[xs, ys, 1,0,0,0, -xd*xs, -xd*ys, -xd], [0,0,0,xs,ys,1,-yd*xs,-yd*ys,-yd]])\n",
    "        matrixA.append(two_nineMatrix[0])\n",
    "        matrixA.append(two_nineMatrix[1])\n",
    "    return matrixA"
   ]
  },
  {
   "cell_type": "code",
   "execution_count": 8,
   "id": "6bd56c75-edd7-4cb0-bedd-be37d06de0ce",
   "metadata": {},
   "outputs": [],
   "source": [
    "A = computeH(a,b)\n",
    "u, s, vh = np.linalg.svd(A, full_matrices=True)\n",
    "hstar = vh[-1].reshape(3,3)"
   ]
  },
  {
   "cell_type": "code",
   "execution_count": 12,
   "id": "62afd9a6-5367-46f8-87cb-570cb7f1c3bd",
   "metadata": {},
   "outputs": [
    {
     "ename": "error",
     "evalue": "OpenCV(4.6.0) /io/opencv/modules/core/src/matmul.dispatch.cpp:550: error: (-215:Assertion failed) scn + 1 == m.cols in function 'perspectiveTransform'\n",
     "output_type": "error",
     "traceback": [
      "\u001b[0;31m---------------------------------------------------------------------------\u001b[0m",
      "\u001b[0;31merror\u001b[0m                                     Traceback (most recent call last)",
      "\u001b[0;32m/tmp/ipykernel_17146/1887938714.py\u001b[0m in \u001b[0;36m<module>\u001b[0;34m\u001b[0m\n\u001b[0;32m----> 1\u001b[0;31m \u001b[0mdst\u001b[0m \u001b[0;34m=\u001b[0m \u001b[0mcv2\u001b[0m\u001b[0;34m.\u001b[0m\u001b[0mperspectiveTransform\u001b[0m\u001b[0;34m(\u001b[0m\u001b[0mnp\u001b[0m\u001b[0;34m.\u001b[0m\u001b[0masarray\u001b[0m\u001b[0;34m(\u001b[0m\u001b[0mimage\u001b[0m\u001b[0;34m)\u001b[0m\u001b[0;34m,\u001b[0m\u001b[0mhstar\u001b[0m\u001b[0;34m)\u001b[0m\u001b[0;34m\u001b[0m\u001b[0;34m\u001b[0m\u001b[0m\n\u001b[0m",
      "\u001b[0;31merror\u001b[0m: OpenCV(4.6.0) /io/opencv/modules/core/src/matmul.dispatch.cpp:550: error: (-215:Assertion failed) scn + 1 == m.cols in function 'perspectiveTransform'\n"
     ]
    }
   ],
   "source": [
    "dst = cv2.perspectiveTransform(np.asarray(image),hstar)"
   ]
  },
  {
   "cell_type": "code",
   "execution_count": 26,
   "id": "5d319fcc-bd79-447b-a982-2e737a35d017",
   "metadata": {},
   "outputs": [],
   "source": [
    "img_stitch = cv2.warpPerspective(np.asarray(image), hstar, (image.size[1]*2, image.size[0]))"
   ]
  },
  {
   "cell_type": "code",
   "execution_count": 27,
   "id": "2b728bed-44ba-4015-835e-b3ebbe2eaa19",
   "metadata": {},
   "outputs": [
    {
     "data": {
      "text/plain": [
       "True"
      ]
     },
     "execution_count": 27,
     "metadata": {},
     "output_type": "execute_result"
    }
   ],
   "source": [
    "np.shape(img_stitch)\n",
    "cv2.imwrite(\"cv.jpg\", img_stitch)"
   ]
  },
  {
   "cell_type": "code",
   "execution_count": 17,
   "id": "205c7d26-a044-43aa-88c2-9e8165f43484",
   "metadata": {},
   "outputs": [
    {
     "name": "stdout",
     "output_type": "stream",
     "text": [
      "Help on built-in function warpPerspective:\n",
      "\n",
      "warpPerspective(...)\n",
      "    warpPerspective(src, M, dsize[, dst[, flags[, borderMode[, borderValue]]]]) -> dst\n",
      "    .   @brief Applies a perspective transformation to an image.\n",
      "    .   \n",
      "    .   The function warpPerspective transforms the source image using the specified matrix:\n",
      "    .   \n",
      "    .   \\f[\\texttt{dst} (x,y) =  \\texttt{src} \\left ( \\frac{M_{11} x + M_{12} y + M_{13}}{M_{31} x + M_{32} y + M_{33}} ,\n",
      "    .        \\frac{M_{21} x + M_{22} y + M_{23}}{M_{31} x + M_{32} y + M_{33}} \\right )\\f]\n",
      "    .   \n",
      "    .   when the flag #WARP_INVERSE_MAP is set. Otherwise, the transformation is first inverted with invert\n",
      "    .   and then put in the formula above instead of M. The function cannot operate in-place.\n",
      "    .   \n",
      "    .   @param src input image.\n",
      "    .   @param dst output image that has the size dsize and the same type as src .\n",
      "    .   @param M \\f$3\\times 3\\f$ transformation matrix.\n",
      "    .   @param dsize size of the output image.\n",
      "    .   @param flags combination of interpolation methods (#INTER_LINEAR or #INTER_NEAREST) and the\n",
      "    .   optional flag #WARP_INVERSE_MAP, that sets M as the inverse transformation (\n",
      "    .   \\f$\\texttt{dst}\\rightarrow\\texttt{src}\\f$ ).\n",
      "    .   @param borderMode pixel extrapolation method (#BORDER_CONSTANT or #BORDER_REPLICATE).\n",
      "    .   @param borderValue value used in case of a constant border; by default, it equals 0.\n",
      "    .   \n",
      "    .   @sa  warpAffine, resize, remap, getRectSubPix, perspectiveTransform\n",
      "\n"
     ]
    }
   ],
   "source": [
    "help(cv2.warpPerspective)"
   ]
  },
  {
   "cell_type": "code",
   "execution_count": null,
   "id": "67698b9c-8a77-4fe1-bdfe-34f45a262678",
   "metadata": {},
   "outputs": [],
   "source": []
  }
 ],
 "metadata": {
  "kernelspec": {
   "display_name": "Python 3 (ipykernel)",
   "language": "python",
   "name": "python3"
  },
  "language_info": {
   "codemirror_mode": {
    "name": "ipython",
    "version": 3
   },
   "file_extension": ".py",
   "mimetype": "text/x-python",
   "name": "python",
   "nbconvert_exporter": "python",
   "pygments_lexer": "ipython3",
   "version": "3.9.5"
  }
 },
 "nbformat": 4,
 "nbformat_minor": 5
}
