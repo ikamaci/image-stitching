{
 "cells": [
  {
   "cell_type": "code",
   "execution_count": 116,
   "id": "23bc88bc-6cf7-4058-94fc-31e52059622c",
   "metadata": {},
   "outputs": [],
   "source": [
    "from PIL import Image\n",
    "import matplotlib.pyplot as plt\n",
    "import numpy as np\n",
    "import sys\n",
    "\n",
    "image = Image.open(\"paris/paris_a.jpg\")\n",
    "im = np.asarray(image)\n",
    "#plt.imshow(image)\n",
    "#points = plt.ginput(5, show_clicks=True)"
   ]
  },
  {
   "cell_type": "code",
   "execution_count": 145,
   "id": "7c9d8b47-dae4-4949-ba7c-61ebfe443c2d",
   "metadata": {},
   "outputs": [],
   "source": [
    "with open('paris1-2_10points.npy', 'rb') as f:\n",
    "    a = np.load(f)\n",
    "    b = np.load(f)"
   ]
  },
  {
   "cell_type": "code",
   "execution_count": 146,
   "id": "570bd5f5-c5c1-48d0-8220-e5ec6d33ef90",
   "metadata": {},
   "outputs": [
    {
     "data": {
      "text/plain": [
       "array([[329.09040959, 218.57235622],\n",
       "       [309.90959041, 245.28849722],\n",
       "       [339.36584844, 258.98908235],\n",
       "       [335.2556729 , 276.11481376],\n",
       "       [335.2556729 , 317.9015984 ],\n",
       "       [313.33473669, 321.32674468],\n",
       "       [358.54666762, 322.01177394],\n",
       "       [438.01006137, 270.63457971],\n",
       "       [446.23041244, 326.12194948],\n",
       "       [608.58234623, 347.35785643]])"
      ]
     },
     "execution_count": 146,
     "metadata": {},
     "output_type": "execute_result"
    }
   ],
   "source": [
    "a"
   ]
  },
  {
   "cell_type": "code",
   "execution_count": 147,
   "id": "6e5cf613-9d6e-4319-85fc-e7dbcb9e4451",
   "metadata": {},
   "outputs": [
    {
     "data": {
      "text/plain": [
       "array([[ 40.69309262, 209.66697588],\n",
       "       [ 15.34701013, 239.80826317],\n",
       "       [ 51.65356072, 254.87890681],\n",
       "       [ 45.48829742, 275.4297845 ],\n",
       "       [ 43.43320965, 323.38183245],\n",
       "       [ 13.97695162, 326.12194948],\n",
       "       [ 72.20443842, 327.49200799],\n",
       "       [164.68338804, 272.00463822],\n",
       "       [181.1240902 , 326.80697874],\n",
       "       [313.33473669, 343.24768089]])"
      ]
     },
     "execution_count": 147,
     "metadata": {},
     "output_type": "execute_result"
    }
   ],
   "source": [
    "b"
   ]
  },
  {
   "cell_type": "code",
   "execution_count": 8,
   "id": "da7666ca-446b-4e22-b700-da04daa678e5",
   "metadata": {},
   "outputs": [
    {
     "data": {
      "text/plain": [
       "(480, 640, 3)"
      ]
     },
     "execution_count": 8,
     "metadata": {},
     "output_type": "execute_result"
    }
   ],
   "source": [
    "np.shape(np.asarray(image))"
   ]
  },
  {
   "cell_type": "code",
   "execution_count": 148,
   "id": "2ee00e5c-3c74-41fd-9210-890a5fbfed7d",
   "metadata": {},
   "outputs": [],
   "source": [
    "def computeH(points_im1, points_im2):\n",
    "    matrixA = []\n",
    "    for i in range(len(points_im1)):\n",
    "        xs, ys = points_im1[i][0], points_im1[i][1]\n",
    "        xd, yd = points_im2[i][0], points_im1[i][1]\n",
    "        two_nineMatrix = np.array([[xs, ys, 1,0,0,0, -xd*xs, -xd*ys, -xd], [0,0,0,xs,ys,1,-yd*xs,-yd*ys,-yd]])\n",
    "        matrixA.append(two_nineMatrix[0])\n",
    "        matrixA.append(two_nineMatrix[1])\n",
    "    return matrixA"
   ]
  },
  {
   "cell_type": "code",
   "execution_count": 149,
   "id": "5fcf0046-0e03-45d7-93e8-4e9b8cbcb550",
   "metadata": {},
   "outputs": [],
   "source": [
    "A = computeH(a,b)"
   ]
  },
  {
   "cell_type": "code",
   "execution_count": 150,
   "id": "d63be219-3505-441b-b19a-35d961fd722d",
   "metadata": {},
   "outputs": [],
   "source": [
    "u, s, vh = np.linalg.svd(A, full_matrices=True)"
   ]
  },
  {
   "cell_type": "code",
   "execution_count": 151,
   "id": "4ac6064f-97ff-4d4f-a09a-4098b839ba15",
   "metadata": {},
   "outputs": [
    {
     "data": {
      "text/plain": [
       "array([[-8.96597101e-04, -5.82799838e-04, -1.84133739e-06,\n",
       "        -2.00016047e-03, -1.48731694e-03, -4.94139114e-06,\n",
       "         8.15988881e-01,  5.78058242e-01,  1.85984161e-03],\n",
       "       [ 4.14465772e-03,  1.93737310e-03,  5.60049200e-06,\n",
       "        -3.47461993e-03, -5.55477964e-03, -1.84117314e-05,\n",
       "        -5.78053307e-01,  8.15954150e-01,  3.05592878e-03],\n",
       "       [ 7.42417638e-01,  5.62948563e-01,  1.91309307e-03,\n",
       "        -3.01729245e-01, -2.01884993e-01, -6.85025374e-04,\n",
       "         3.73900122e-03, -5.14774702e-03,  7.89113541e-03],\n",
       "       [ 1.68397599e-01,  3.62266382e-01,  1.59604186e-03,\n",
       "         7.84864257e-01,  4.50573936e-01,  1.85359527e-03,\n",
       "        -1.27224841e-04,  5.15113436e-03, -1.46095894e-01],\n",
       "       [-3.98973867e-01,  5.03964974e-01,  4.90117969e-04,\n",
       "         7.68861415e-02, -1.47511110e-01, -3.09620948e-03,\n",
       "         8.16517193e-06, -2.64163586e-03,  7.47764232e-01],\n",
       "       [-5.05900650e-01,  5.31312272e-01, -4.38155032e-03,\n",
       "        -1.68954412e-01, -1.51495266e-01,  3.25994356e-03,\n",
       "        -5.27804287e-04,  1.58240966e-03, -6.40501979e-01],\n",
       "       [ 7.28704851e-02, -1.24793538e-01,  1.01136699e-04,\n",
       "         5.08400561e-01, -8.43483832e-01, -3.70376427e-03,\n",
       "         1.49842517e-03, -2.23119369e-03, -9.57047998e-02],\n",
       "       [-1.76320315e-03,  9.99039131e-04,  2.44666999e-01,\n",
       "        -1.34776749e-03,  3.73186546e-03, -9.69584477e-01,\n",
       "        -4.52094240e-06,  1.78950107e-05, -4.91430496e-03],\n",
       "       [ 3.38921845e-03, -2.00064414e-04, -9.69593938e-01,\n",
       "         1.21190276e-03,  1.80707106e-03, -2.44679595e-01,\n",
       "         3.68415122e-06, -2.26569730e-06,  1.79742443e-03]])"
      ]
     },
     "execution_count": 151,
     "metadata": {},
     "output_type": "execute_result"
    }
   ],
   "source": [
    "vh"
   ]
  },
  {
   "cell_type": "code",
   "execution_count": null,
   "id": "f3fff445-1948-4209-bbc1-70da89bb0c62",
   "metadata": {},
   "outputs": [],
   "source": []
  },
  {
   "cell_type": "code",
   "execution_count": 152,
   "id": "5413cd3a-2ade-4e5c-b8ad-f9f25990bbc9",
   "metadata": {},
   "outputs": [],
   "source": [
    "hstar = (-1)*vh[-1].reshape(3,3)\n",
    "#hstar = -1 * vh[:,-1].reshape(3,3)"
   ]
  },
  {
   "cell_type": "code",
   "execution_count": 153,
   "id": "33b3f6fb-4d9e-4532-a5a8-2b4a6a9ee6de",
   "metadata": {},
   "outputs": [],
   "source": [
    "def warp(image,homography):\n",
    "    t_inverse = np.linalg.inv(homography)\n",
    "    newPositions = []\n",
    "    wrapped = np.zeros(np.shape(image))\n",
    "    for i in range(len(wrapped)):\n",
    "        for j in range(len(wrapped[i])):\n",
    "            coordinates = np.matmul(t_inverse, np.array([[i],[j],[1]]))\n",
    "            newPositions.append(coordinates* (1/coordinates[2][0]))\n",
    "    return np.asarray(newPositions).reshape(np.shape(np.asarray(image)))"
   ]
  },
  {
   "cell_type": "code",
   "execution_count": 154,
   "id": "86fc07c2-549e-436b-8b5a-85b5218fd893",
   "metadata": {},
   "outputs": [],
   "source": [
    "def fwarp(image,homography):\n",
    "    wrapped = np.zeros(np.shape(image))\n",
    "    newPositions = []\n",
    "    for i in range(len(image)):\n",
    "        for j in range(len(image[i])):\n",
    "            coordinates = np.matmul(homography, np.array([[i],[j],[1]]))\n",
    "            newPositions.append(coordinates* (1/coordinates[2][0]))\n",
    "    return np.asarray(newPositions).reshape(np.shape(np.asarray(image)))[:,:,0:2]"
   ]
  },
  {
   "cell_type": "code",
   "execution_count": 155,
   "id": "35f444f1-89bd-4c9c-a148-b68cce7ef6a3",
   "metadata": {},
   "outputs": [],
   "source": [
    "back_res = warp(np.asarray(image),hstar)"
   ]
  },
  {
   "cell_type": "code",
   "execution_count": 156,
   "id": "9bc7a518-7963-4573-8e45-74ad6bbcdbca",
   "metadata": {},
   "outputs": [],
   "source": [
    "res = fwarp(np.asarray(image),hstar)"
   ]
  },
  {
   "cell_type": "code",
   "execution_count": 158,
   "id": "891f0676-3b1a-49fb-8f5c-3e961c79c91f",
   "metadata": {},
   "outputs": [
    {
     "data": {
      "text/plain": [
       "(480, 640, 3)"
      ]
     },
     "execution_count": 158,
     "metadata": {},
     "output_type": "execute_result"
    }
   ],
   "source": [
    "np.shape(back_res)"
   ]
  },
  {
   "cell_type": "code",
   "execution_count": 168,
   "id": "3829557f-0d36-4991-aff6-cf177a08527d",
   "metadata": {},
   "outputs": [],
   "source": [
    "def construct(image,wrap):\n",
    "    res = np.round(wrap)\n",
    "    x_min = np.amin(res[:,:,0])\n",
    "    y_min = np.amin(res[:,:,1])\n",
    "    res[:,:,0] = res[:,:,0] + np.abs(x_min)\n",
    "    res[:,:,1] = res[:,:,1] + np.abs(y_min)\n",
    "    x_max = np.amax(res[:,:,0]).astype(int)\n",
    "    y_max = np.amax(res[:,:,1]).astype(int)\n",
    "    res = res.astype(int)\n",
    "    print(x_max,y_max)\n",
    "    scale_X = len(image) / x_max\n",
    "    scale_Y = len(image[0]) / y_max\n",
    "    projected = np.zeros(np.shape(image))\n",
    "    for i in range(len(image)):\n",
    "        for j in range(len(image[i])):\n",
    "            c = res[i][j]\n",
    "            #print(int(c[0] * scale_X), int(c[1] * scale_Y) )\n",
    "            projected[int(c[0] * scale_X)][int(c[1] * scale_Y)] = image[i][j]\n",
    "    return projected"
   ]
  },
  {
   "cell_type": "code",
   "execution_count": 169,
   "id": "9266499c-53a6-428b-a0a4-f02b2b97d1fa",
   "metadata": {},
   "outputs": [
    {
     "name": "stdout",
     "output_type": "stream",
     "text": [
      "3388 2739\n"
     ]
    }
   ],
   "source": [
    "imageMatrix=construct(im,res)\n",
    "imgResult = Image.fromarray(imageMatrix.astype(np.uint8), 'RGB')\n",
    "imgResult.save(\"10transform.jpg\")"
   ]
  },
  {
   "cell_type": "code",
   "execution_count": 113,
   "id": "8b098dee-36db-4ffb-ae75-8394ca258097",
   "metadata": {},
   "outputs": [
    {
     "name": "stdout",
     "output_type": "stream",
     "text": [
      "-1398.9565549774945 285.6787897997518\n",
      "7.395538147953499 1446.6606328437645\n"
     ]
    }
   ],
   "source": [
    "print(np.amin(res[:,:,0]),np.amax(res[:,:,0]))\n",
    "print(np.amin(res[:,:,1]),np.amax(res[:,:,1]))"
   ]
  },
  {
   "cell_type": "code",
   "execution_count": 76,
   "id": "ed7bc80e-8d0d-4bd1-b336-23e4a4816937",
   "metadata": {},
   "outputs": [],
   "source": [
    "A = np.array([[3,2,2],[2,3,-2]])"
   ]
  },
  {
   "cell_type": "code",
   "execution_count": 81,
   "id": "b2033f16-8dff-4254-92f7-b03b4713645c",
   "metadata": {},
   "outputs": [],
   "source": [
    "u, s, vh = np.linalg.svd(A)"
   ]
  },
  {
   "cell_type": "code",
   "execution_count": 82,
   "id": "726c621d-cae7-4241-a4b0-f13b22ba2c83",
   "metadata": {},
   "outputs": [
    {
     "data": {
      "text/plain": [
       "array([[-0.70710678, -0.70710678],\n",
       "       [-0.70710678,  0.70710678]])"
      ]
     },
     "execution_count": 82,
     "metadata": {},
     "output_type": "execute_result"
    }
   ],
   "source": [
    "u"
   ]
  },
  {
   "cell_type": "code",
   "execution_count": 83,
   "id": "54d5167c-de43-49c8-a6be-4eb9543ef938",
   "metadata": {},
   "outputs": [
    {
     "data": {
      "text/plain": [
       "array([5., 3.])"
      ]
     },
     "execution_count": 83,
     "metadata": {},
     "output_type": "execute_result"
    }
   ],
   "source": [
    "s"
   ]
  },
  {
   "cell_type": "code",
   "execution_count": 84,
   "id": "1109ba80-1bca-4f3a-8f81-ff1392e66488",
   "metadata": {},
   "outputs": [
    {
     "data": {
      "text/plain": [
       "array([[-7.07106781e-01, -7.07106781e-01, -6.47932334e-17],\n",
       "       [-2.35702260e-01,  2.35702260e-01, -9.42809042e-01],\n",
       "       [-6.66666667e-01,  6.66666667e-01,  3.33333333e-01]])"
      ]
     },
     "execution_count": 84,
     "metadata": {},
     "output_type": "execute_result"
    }
   ],
   "source": [
    "vh"
   ]
  },
  {
   "cell_type": "code",
   "execution_count": null,
   "id": "56db76da-d5fe-4103-acce-ae2284c5e7f6",
   "metadata": {},
   "outputs": [],
   "source": []
  },
  {
   "cell_type": "code",
   "execution_count": null,
   "id": "aca37517-e74c-469a-b926-b4a9347c1157",
   "metadata": {},
   "outputs": [],
   "source": []
  }
 ],
 "metadata": {
  "kernelspec": {
   "display_name": "Python 3 (ipykernel)",
   "language": "python",
   "name": "python3"
  },
  "language_info": {
   "codemirror_mode": {
    "name": "ipython",
    "version": 3
   },
   "file_extension": ".py",
   "mimetype": "text/x-python",
   "name": "python",
   "nbconvert_exporter": "python",
   "pygments_lexer": "ipython3",
   "version": "3.9.5"
  }
 },
 "nbformat": 4,
 "nbformat_minor": 5
}
