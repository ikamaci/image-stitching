{
 "cells": [
  {
   "cell_type": "code",
   "execution_count": 42,
   "id": "23bc88bc-6cf7-4058-94fc-31e52059622c",
   "metadata": {},
   "outputs": [],
   "source": [
    "from PIL import Image\n",
    "import matplotlib.pyplot as plt\n",
    "import numpy as np\n",
    "import sys\n"
   ]
  },
  {
   "cell_type": "code",
   "execution_count": 43,
   "id": "bc2f3fac-f65b-43cb-84aa-a1ce596cf629",
   "metadata": {},
   "outputs": [],
   "source": [
    "image1 = Image.open(\"paris/paris_a.jpg\")\n",
    "image2 = Image.open(\"paris/paris_b.jpg\")\n",
    "img1 = np.asarray(image1)\n",
    "img2 = np.asarray(image2)\n",
    "#plt.imshow(image)\n",
    "#points = plt.ginput(5, show_clicks=True)"
   ]
  },
  {
   "cell_type": "code",
   "execution_count": 34,
   "id": "7c9d8b47-dae4-4949-ba7c-61ebfe443c2d",
   "metadata": {},
   "outputs": [],
   "source": [
    "with open('paris1-2_10points.npy', 'rb') as f:\n",
    "    a = np.load(f)\n",
    "    b = np.load(f)"
   ]
  },
  {
   "cell_type": "code",
   "execution_count": 38,
   "id": "2ee00e5c-3c74-41fd-9210-890a5fbfed7d",
   "metadata": {},
   "outputs": [],
   "source": [
    "def computeH(points_im1, points_im2):\n",
    "    matrixA = []\n",
    "    for i in range(len(points_im1)):\n",
    "        xs, ys = points_im1[i][0], points_im1[i][1]\n",
    "        xd, yd = points_im2[i][0], points_im1[i][1]\n",
    "        two_nineMatrix = np.array([[xs, ys, 1,0,0,0, -xd*xs, -xd*ys, -xd], [0,0,0,xs,ys,1,-yd*xs,-yd*ys,-yd]])\n",
    "        matrixA.append(two_nineMatrix[0])\n",
    "        matrixA.append(two_nineMatrix[1])\n",
    "    return matrixA"
   ]
  },
  {
   "cell_type": "code",
   "execution_count": 39,
   "id": "5fcf0046-0e03-45d7-93e8-4e9b8cbcb550",
   "metadata": {},
   "outputs": [],
   "source": [
    "A = computeH(a,b)"
   ]
  },
  {
   "cell_type": "code",
   "execution_count": 40,
   "id": "d63be219-3505-441b-b19a-35d961fd722d",
   "metadata": {},
   "outputs": [],
   "source": [
    "u, s, vh = np.linalg.svd(A, full_matrices=True)"
   ]
  },
  {
   "cell_type": "code",
   "execution_count": 44,
   "id": "5413cd3a-2ade-4e5c-b8ad-f9f25990bbc9",
   "metadata": {},
   "outputs": [],
   "source": [
    "homography = (-1)*vh[-1].reshape(3,3)"
   ]
  },
  {
   "cell_type": "code",
   "execution_count": 73,
   "id": "33b3f6fb-4d9e-4532-a5a8-2b4a6a9ee6de",
   "metadata": {},
   "outputs": [],
   "source": [
    "def warp(image,homography):\n",
    "    t_inverse = np.linalg.inv(homography)\n",
    "    boundries = np.matmul(homography, np.array([[0,0,640,640],[0,480,0,480],[1,1,1,1]]))\n",
    "    boundriesDenormalized = np.matmul(boundries, np.diag(1/boundries[-1]))\n",
    "    print(boundriesDenormalized, np.shape(boundriesDenormalized))\n",
    "    newPositions = []\n",
    "    wrapped = np.zeros(np.shape(image))\n",
    "    for i in range(len(wrapped)-1):\n",
    "        for j in range(len(wrapped[i])-1):\n",
    "            coordinates = np.matmul(t_inverse, np.array([[i],[j],[1]]))\n",
    "            coordinates = (coordinates* (1/coordinates[2][0]))[0:2]\n",
    "            if coordinates[0] * coordinates[1] > 0 and int(coordinates[0]) < len(image)-1 and int(coordinates[1]) < len(image[0])-1:\n",
    "                leftTopX, leftTopY, leftTopVal = int(coordinates[0]), int(coordinates[1]), image[int(coordinates[0])][int(coordinates[1])]\n",
    "                rightTopX, rightTopY, rightTopVal = int(coordinates[0]) +1 , int(coordinates[1]), image[int(coordinates[0])+1][int(coordinates[1])]\n",
    "                leftBottomX, leftBottomY, leftBottomVal = int(coordinates[0]), int(coordinates[1])+1, image[int(coordinates[0])][int(coordinates[1])+1]\n",
    "                rightBottomX, rightBottomY, rightBottomVal = int(coordinates[0])+1, int(coordinates[1])+1, image[int(coordinates[0])+1][int(coordinates[1])+1]\n",
    "                a=coordinates[0]%1\n",
    "                b= int(coordinates[1])+1 - coordinates[1]\n",
    "                bilinearInterpolation = leftBottomVal * (1- a)*(1-b) + leftTopVal * (1-a) * b + rightBottomVal * a*(1-b) + rightTopVal * a *b\n",
    "                wrapped[i][j] = bilinearInterpolation\n",
    "    return np.asarray(wrapped)"
   ]
  },
  {
   "cell_type": "code",
   "execution_count": 71,
   "id": "86fc07c2-549e-436b-8b5a-85b5218fd893",
   "metadata": {},
   "outputs": [],
   "source": [
    "def fwarp(image,homography):\n",
    "    wrapped = np.zeros(np.shape(image))\n",
    "    newPositions = []\n",
    "    for i in range(len(image)):\n",
    "        for j in range(len(image[i])):\n",
    "            coordinates = np.matmul(homography, np.array([[i],[j],[1]]))\n",
    "            newPositions.append(coordinates* (1/coordinates[2][0]))\n",
    "    return np.asarray(newPositions).reshape(np.shape(np.asarray(image)))[:,:,0:2]"
   ]
  },
  {
   "cell_type": "code",
   "execution_count": 74,
   "id": "35f444f1-89bd-4c9c-a148-b68cce7ef6a3",
   "metadata": {},
   "outputs": [
    {
     "name": "stdout",
     "output_type": "stream",
     "text": [
      "[[-5.39435161e+02 -1.50111322e+03  2.88670204e+02  3.59702130e+02]\n",
      " [-1.36127890e+02  8.77198940e+02  1.27774306e+02  4.55817415e+02]\n",
      " [ 1.00000000e+00  1.00000000e+00  1.00000000e+00  1.00000000e+00]] (3, 4)\n"
     ]
    }
   ],
   "source": [
    "back_res = warp(np.asarray(image),homography)"
   ]
  },
  {
   "cell_type": "code",
   "execution_count": 20,
   "id": "9bc7a518-7963-4573-8e45-74ad6bbcdbca",
   "metadata": {},
   "outputs": [],
   "source": [
    "res = fwarp(np.asarray(image),hstar)"
   ]
  },
  {
   "cell_type": "code",
   "execution_count": 76,
   "id": "891f0676-3b1a-49fb-8f5c-3e961c79c91f",
   "metadata": {},
   "outputs": [
    {
     "data": {
      "text/plain": [
       "(480, 640, 3)"
      ]
     },
     "execution_count": 76,
     "metadata": {},
     "output_type": "execute_result"
    }
   ],
   "source": [
    "np.shape(back_res)"
   ]
  },
  {
   "cell_type": "code",
   "execution_count": 78,
   "id": "d339e56f-62fc-42d6-8888-f32cfbbbad66",
   "metadata": {},
   "outputs": [],
   "source": [
    "imgResult = Image.fromarray(back_res.astype(np.uint8), 'RGB')\n",
    "imgResult.save(\"warped.jpg\")"
   ]
  },
  {
   "cell_type": "code",
   "execution_count": 22,
   "id": "3829557f-0d36-4991-aff6-cf177a08527d",
   "metadata": {},
   "outputs": [],
   "source": [
    "def construct(image,wrap):\n",
    "    res = np.round(wrap)\n",
    "    x_min = np.amin(res[:,:,0])\n",
    "    y_min = np.amin(res[:,:,1])\n",
    "    res[:,:,0] = res[:,:,0] + np.abs(x_min)\n",
    "    res[:,:,1] = res[:,:,1] + np.abs(y_min)\n",
    "    x_max = np.amax(res[:,:,0]).astype(int)\n",
    "    y_max = np.amax(res[:,:,1]).astype(int)\n",
    "    res = res.astype(int)\n",
    "    print(x_max,y_max)\n",
    "    scale_X = (len(image) / x_max) \n",
    "    scale_Y = (len(image[0]) / y_max)\n",
    "    projected = np.zeros(np.shape(image))\n",
    "    for i in range(len(image)):\n",
    "        for j in range(len(image[i])):\n",
    "            c = res[i][j]\n",
    "            #print(int(c[0] * scale_X), int(c[1] * scale_Y) )\n",
    "            projected[int(c[0] * scale_X)-1][int(c[1] * scale_Y)-1] = image[i][j]\n",
    "    return projected"
   ]
  },
  {
   "cell_type": "code",
   "execution_count": 23,
   "id": "9266499c-53a6-428b-a0a4-f02b2b97d1fa",
   "metadata": {},
   "outputs": [
    {
     "name": "stdout",
     "output_type": "stream",
     "text": [
      "3388 2739\n"
     ]
    }
   ],
   "source": [
    "imageMatrix=construct(im,res)\n",
    "imgResult = Image.fromarray(imageMatrix.astype(np.uint8), 'RGB')\n",
    "imgResult.save(\"10transform.jpg\")"
   ]
  },
  {
   "cell_type": "code",
   "execution_count": 24,
   "id": "8b098dee-36db-4ffb-ae75-8394ca258097",
   "metadata": {},
   "outputs": [
    {
     "name": "stdout",
     "output_type": "stream",
     "text": [
      "-3138.7226735397476 248.77620614530588\n",
      "-136.12788992140727 2602.759349287685\n"
     ]
    }
   ],
   "source": [
    "print(np.amin(res[:,:,0]),np.amax(res[:,:,0]))\n",
    "print(np.amin(res[:,:,1]),np.amax(res[:,:,1]))"
   ]
  },
  {
   "cell_type": "code",
   "execution_count": 51,
   "id": "56db76da-d5fe-4103-acce-ae2284c5e7f6",
   "metadata": {},
   "outputs": [
    {
     "data": {
      "text/plain": [
       "(3, 1)"
      ]
     },
     "execution_count": 51,
     "metadata": {},
     "output_type": "execute_result"
    }
   ],
   "source": [
    "np.shape(np.array([[1],[2],[3]]))"
   ]
  },
  {
   "cell_type": "code",
   "execution_count": 61,
   "id": "aca37517-e74c-469a-b926-b4a9347c1157",
   "metadata": {},
   "outputs": [
    {
     "data": {
      "text/plain": [
       "4"
      ]
     },
     "execution_count": 61,
     "metadata": {},
     "output_type": "execute_result"
    }
   ],
   "source": [
    "int(4.6)"
   ]
  },
  {
   "cell_type": "code",
   "execution_count": null,
   "id": "8e127a27-bb87-4183-90c5-a9fda820bd8b",
   "metadata": {},
   "outputs": [],
   "source": []
  }
 ],
 "metadata": {
  "kernelspec": {
   "display_name": "Python 3 (ipykernel)",
   "language": "python",
   "name": "python3"
  },
  "language_info": {
   "codemirror_mode": {
    "name": "ipython",
    "version": 3
   },
   "file_extension": ".py",
   "mimetype": "text/x-python",
   "name": "python",
   "nbconvert_exporter": "python",
   "pygments_lexer": "ipython3",
   "version": "3.8.10"
  }
 },
 "nbformat": 4,
 "nbformat_minor": 5
}
