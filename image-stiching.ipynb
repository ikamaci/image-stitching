{
 "cells": [
  {
   "cell_type": "code",
   "execution_count": 3,
   "id": "23bc88bc-6cf7-4058-94fc-31e52059622c",
   "metadata": {},
   "outputs": [],
   "source": [
    "from PIL import Image\n",
    "import matplotlib.pyplot as plt\n",
    "import numpy as np\n",
    "import sys"
   ]
  },
  {
   "cell_type": "code",
   "execution_count": 344,
   "id": "bc2f3fac-f65b-43cb-84aa-a1ce596cf629",
   "metadata": {},
   "outputs": [],
   "source": [
    "image1 = Image.open(\"paris/paris_b.jpg\")\n",
    "image2 = Image.open(\"paris/paris_c.jpg\")\n",
    "img1 = np.asarray(image1)\n",
    "img2 = np.asarray(image2)\n",
    "#plt.imshow(image)\n",
    "#points = plt.ginput(5, show_clicks=True)"
   ]
  },
  {
   "cell_type": "code",
   "execution_count": 345,
   "id": "32399e9c-6f7b-4516-8507-49ea5423b181",
   "metadata": {},
   "outputs": [
    {
     "data": {
      "text/plain": [
       "(480, 640, 3)"
      ]
     },
     "execution_count": 345,
     "metadata": {},
     "output_type": "execute_result"
    }
   ],
   "source": [
    "np.shape(img1)"
   ]
  },
  {
   "cell_type": "code",
   "execution_count": 346,
   "id": "7c9d8b47-dae4-4949-ba7c-61ebfe443c2d",
   "metadata": {},
   "outputs": [],
   "source": [
    "with open('paris2-3_15points.npy', 'rb') as f:\n",
    "    a = np.load(f)\n",
    "    b = np.load(f)"
   ]
  },
  {
   "cell_type": "code",
   "execution_count": 347,
   "id": "67678ce2-164c-4d80-9843-24f0499466d9",
   "metadata": {},
   "outputs": [
    {
     "data": {
      "text/plain": [
       "array([[259.33892334, 336.12279287],\n",
       "       [270.74798341, 337.16041521],\n",
       "       [288.40523665, 337.52108835],\n",
       "       [304.68404754, 338.37439401],\n",
       "       [341.7395648 , 340.7127993 ],\n",
       "       [383.88752911, 343.91754035],\n",
       "       [433.71216451, 346.8957472 ],\n",
       "       [570.60610222, 354.79388259],\n",
       "       [510.30185556, 366.57470325],\n",
       "       [352.09389758, 248.26396132],\n",
       "       [402.62168451, 211.40183442],\n",
       "       [513.16032765, 207.76719487],\n",
       "       [556.18713661, 198.7049978 ],\n",
       "       [598.83602531, 213.08309628],\n",
       "       [533.12698828, 280.78135563]])"
      ]
     },
     "execution_count": 347,
     "metadata": {},
     "output_type": "execute_result"
    }
   ],
   "source": [
    "a"
   ]
  },
  {
   "cell_type": "code",
   "execution_count": 348,
   "id": "ece8dd79-f1e0-4811-bff0-da033cdb794a",
   "metadata": {},
   "outputs": [
    {
     "data": {
      "text/plain": [
       "array([[ 29.30886914, 320.99214694],\n",
       "       [ 44.12243353, 322.57542245],\n",
       "       [ 66.5419748 , 323.53140529],\n",
       "       [ 86.65703642, 323.74708897],\n",
       "       [130.43020946, 325.88350403],\n",
       "       [176.29559   , 326.47232236],\n",
       "       [226.54647547, 327.95642697],\n",
       "       [348.2803903 , 331.1072471 ],\n",
       "       [296.55212848, 345.06854824],\n",
       "       [145.06883885, 227.18742052],\n",
       "       [200.60094198, 191.43256777],\n",
       "       [305.80416225, 196.24711834],\n",
       "       [343.15420713, 191.72031974],\n",
       "       [376.9176106 , 206.83630089],\n",
       "       [319.73490189, 264.69491638]])"
      ]
     },
     "execution_count": 348,
     "metadata": {},
     "output_type": "execute_result"
    }
   ],
   "source": [
    "b"
   ]
  },
  {
   "cell_type": "code",
   "execution_count": 349,
   "id": "2ee00e5c-3c74-41fd-9210-890a5fbfed7d",
   "metadata": {},
   "outputs": [],
   "source": [
    "def computeH(points_im1, points_im2):\n",
    "    matrixA = []\n",
    "    for i in range(len(points_im1)):\n",
    "        xs, ys = points_im1[i][0], points_im1[i][1]\n",
    "        xd, yd = points_im2[i][0], points_im1[i][1]\n",
    "        two_nineMatrix = np.array([[xs, ys, 1,0,0,0, -xd*xs, -xd*ys, -xd],\n",
    "                                   [0,0,0,xs,ys,1,-yd*xs,-yd*ys,-yd]])\n",
    "        matrixA.append(two_nineMatrix[0])\n",
    "        matrixA.append(two_nineMatrix[1])\n",
    "    return matrixA"
   ]
  },
  {
   "cell_type": "code",
   "execution_count": 350,
   "id": "5fcf0046-0e03-45d7-93e8-4e9b8cbcb550",
   "metadata": {},
   "outputs": [],
   "source": [
    "A = computeH(b,a)"
   ]
  },
  {
   "cell_type": "code",
   "execution_count": 351,
   "id": "d63be219-3505-441b-b19a-35d961fd722d",
   "metadata": {},
   "outputs": [],
   "source": [
    "u, s, vh = np.linalg.svd(A, full_matrices=True)"
   ]
  },
  {
   "cell_type": "code",
   "execution_count": 352,
   "id": "5413cd3a-2ade-4e5c-b8ad-f9f25990bbc9",
   "metadata": {},
   "outputs": [
    {
     "name": "stdout",
     "output_type": "stream",
     "text": [
      "[7.59910170e+05 2.16354620e+05 1.35610844e+03 4.93149494e+02\n",
      " 3.34146896e+02 9.18969921e+01 2.78094370e+01 2.62208784e-01\n",
      " 4.82691371e-02]\n",
      "[[-2.33411375e-03  2.66008930e-04 -9.70903563e-01]\n",
      " [ 6.76161709e-04 -2.99532242e-03 -2.39405551e-01]\n",
      " [ 2.26398995e-06  8.38273143e-07 -4.03805286e-03]]\n"
     ]
    },
    {
     "data": {
      "text/plain": [
       "'\\nhomography = np.array(\\n    [[ 2.06417031e+00, -1.09152156e-01, -5.91002794e+02],\\n [ 4.98137666e-01,  1.73071462e+00, -2.18682112e+02],\\n [ 1.70508897e-03, -9.86837491e-05,  1.00000000e+00]])\\n '"
      ]
     },
     "execution_count": 352,
     "metadata": {},
     "output_type": "execute_result"
    }
   ],
   "source": [
    "print(s)\n",
    "homography = vh[-1].reshape(3,3)\n",
    "print(homography)\n",
    "'''\n",
    "homography = np.array(\n",
    "    [[ 2.06417031e+00, -1.09152156e-01, -5.91002794e+02],\n",
    " [ 4.98137666e-01,  1.73071462e+00, -2.18682112e+02],\n",
    " [ 1.70508897e-03, -9.86837491e-05,  1.00000000e+00]])\n",
    " '''"
   ]
  },
  {
   "cell_type": "code",
   "execution_count": 353,
   "id": "e842be96-e690-4ab6-8e85-546fbd9740ce",
   "metadata": {},
   "outputs": [],
   "source": [
    "def interpolation(image, x,y):\n",
    "    leftTopX, leftTopY, leftTopVal = int(x), int(y), image[int(x)][int(y)]\n",
    "    rightTopX, rightTopY, rightTopVal = int(x) +1 , int(y), image[int(x)+1][int(y)]\n",
    "    leftBottomX, leftBottomY, leftBottomVal = int(x), int(y)+1, image[int(x)][int(y)+1]\n",
    "    rightBottomX, rightBottomY, rightBottomVal = int(x)+1, int(y)+1, image[int(x)+1][int(y)+1]\n",
    "    a=x%1\n",
    "    b= int(y)+1 - y\n",
    "    return leftBottomVal * (1- a)*(1-b) + leftTopVal * (1-a) * b + rightBottomVal * a*(1-b) + rightTopVal * a *b"
   ]
  },
  {
   "cell_type": "code",
   "execution_count": 354,
   "id": "5aea4fc9-0e11-41c6-84ab-10f707a8b0bc",
   "metadata": {},
   "outputs": [
    {
     "ename": "IndentationError",
     "evalue": "expected an indented block (5274181.py, line 7)",
     "output_type": "error",
     "traceback": [
      "\u001b[0;36m  Cell \u001b[0;32mIn [354], line 7\u001b[0;36m\u001b[0m\n\u001b[0;31m    b= int(y)+1 - y\u001b[0m\n\u001b[0m    ^\u001b[0m\n\u001b[0;31mIndentationError\u001b[0m\u001b[0;31m:\u001b[0m expected an indented block\n"
     ]
    }
   ],
   "source": [
    "def interpolationNear(image, x,y):\n",
    "    a=x%1\n",
    "    b = y%1\n",
    "    if a >= 0.5:\n",
    "        if b >= 0.5:\n",
    "            \n",
    "    b= int(y)+1 - y\n",
    "    bilinearInterpolation = leftBottomVal * (1- a)*(1-b) + leftTopVal * (1-a) * b + rightBottomVal * a*(1-b) + rightTopVal * a *b"
   ]
  },
  {
   "cell_type": "code",
   "execution_count": 355,
   "id": "4bfbffc2-a913-44c0-ab86-039959e8a2f5",
   "metadata": {},
   "outputs": [],
   "source": [
    "def pixelIntensity(rgb):\n",
    "     return 0.299 * rgb[0] + 0.587 * rgb[1] + 0.114 * rgb[2]"
   ]
  },
  {
   "cell_type": "code",
   "execution_count": 356,
   "id": "33b3f6fb-4d9e-4532-a5a8-2b4a6a9ee6de",
   "metadata": {},
   "outputs": [],
   "source": [
    "def warp(image,homography):\n",
    "    t_inverse = np.linalg.inv(homography)\n",
    "    boundries = np.matmul(homography, np.array([[0,0,640,640],\n",
    "                                                [0,480,0,480],\n",
    "                                                [1,1,1,1]]))\n",
    "    boundriesDenormalized = np.matmul(boundries, np.diag(1/boundries[-1]))\n",
    "    print(boundriesDenormalized, np.shape(boundriesDenormalized))\n",
    "    inversed = np.matmul(t_inverse, boundriesDenormalized)\n",
    "    inversedNormalised = np.matmul(inversed, np.diag(1/inversed[-1]))\n",
    "    print(inversedNormalised)\n",
    "    newPositions = []\n",
    "    xAxisRange = (int(np.amin(boundriesDenormalized[0])),int(np.amax(boundriesDenormalized[0])))\n",
    "    minXIndex = np.where(boundriesDenormalized[0] == np.amin(boundriesDenormalized[0]))\n",
    "    print('minx',minXIndex, boundriesDenormalized[0][minXIndex], boundriesDenormalized[1][minXIndex] )\n",
    "    coordinates1 = np.matmul(t_inverse, np.array([[-539],[-136],[1]]))\n",
    "    print(\"coordinates1\",coordinates1 * (1/coordinates1[2][0]) )\n",
    "    yAxisRange = (int(np.amin(boundriesDenormalized[1])),int(np.amax(boundriesDenormalized[1])))\n",
    "    xAxisRange = (int(np.amin(boundriesDenormalized[0])),int(np.amax(boundriesDenormalized[0])))\n",
    "    print(xAxisRange,yAxisRange)\n",
    "    width = xAxisRange[1]-xAxisRange[0]\n",
    "    height = yAxisRange[1]-yAxisRange[0]\n",
    "    wrapped = np.zeros((height+1,width+1,3))\n",
    "    print(height, width)\n",
    "    print('traverseIndex',height-1,width-1)\n",
    "    for h in range(height-1):\n",
    "        for w in range(width-1):\n",
    "            x = w + xAxisRange[0]\n",
    "            y = h + yAxisRange[0]\n",
    "            coordinates = np.matmul(t_inverse, np.array([[x],[y],[1]]))\n",
    "            coordinates = (coordinates* (1/coordinates[2][0]))[0:2]\n",
    "            if coordinates[0] > 0 and coordinates[1] > 0:\n",
    "                if int(coordinates[1]) < len(image)-1 and int(coordinates[0]) < len(image[0])-1:\n",
    "                    bilinearInterpolation  = interpolation(image,coordinates[1][0],coordinates[0][0])\n",
    "                    wrapped[h][w] = bilinearInterpolation\n",
    "    return np.asarray(wrapped), (xAxisRange[0],yAxisRange[0])"
   ]
  },
  {
   "cell_type": "code",
   "execution_count": 357,
   "id": "dd9d18d5-8e33-4e53-86e3-be7e1902594e",
   "metadata": {},
   "outputs": [],
   "source": [
    "def mergeImages(warped, image, offsets):\n",
    "    print(offsets)\n",
    "    xOffset = offsets[0]\n",
    "    yOffset = offsets[1]\n",
    "    wWidth = np.shape(warped)[1]\n",
    "    wHeight = np.shape(warped)[0]\n",
    "    print(wWidth,wHeight)\n",
    "    xLimit = wWidth + xOffset\n",
    "    yLimit = wHeight + yOffset\n",
    "    mergedX = max(len(image[0]), xLimit)\n",
    "    mergedY = max(len(image), yLimit)\n",
    "    shiftImageX = -xOffset if xOffset < 0 else 0\n",
    "    shiftImageY = -yOffset if yOffset < 0 else 0\n",
    "    merged = np.zeros(( mergedY + shiftImageY, mergedX + shiftImageX,3))\n",
    "    print(\"warpedShape\", np.shape(warped), 0 + xOffset, 0 + yOffset)\n",
    "    print(\"mergedShape:\",np.shape(merged))\n",
    "    shiftX = 0 if xOffset < 0 else xOffset\n",
    "    shiftY = 0 if yOffset < 0 else yOffset\n",
    "    \n",
    "    for i in range(len(warped)-1):\n",
    "        for j in range(len(warped[0])-1):\n",
    "            x = j + shiftX\n",
    "            y = i + shiftY\n",
    "            try:\n",
    "                #a = 8\n",
    "                merged[y][x] = warped[i][j]\n",
    "            except:\n",
    "                print(\"i,j\",i,j, \"x,y\",x,y)           \n",
    "            '''\n",
    "            elif x < len(image[0]) and y < len(image):\n",
    "                try:\n",
    "                    merged[i][j] = image[i][j]\n",
    "                except:\n",
    "                    print(\"i,j\",i,j, \"x,y\",x,y)\n",
    "            else:\n",
    "                merged[i][j] = warped[i][j]\n",
    "            \n",
    "            if x < len(image[0]) and y < len(image) and x > 0 and y > 0:\n",
    "                try:\n",
    "                    merged[i][j] = image[x][y]\n",
    "                except e:\n",
    "                    print(e)\n",
    "                    print(\"i,j\",i,j, \"x,y\",x,y)\n",
    "            '''\n",
    "            #elif x < len(image[0]) and y < len(image):           \n",
    "    print(np.shape(merged),mergedX,mergedY)\n",
    "    overlapped = warped[-yOffset:,-xOffset:]\n",
    "    shiftImageX = -xOffset if xOffset < 0 else 0\n",
    "    shiftImageY = -yOffset if yOffset < 0 else 0\n",
    "    for i in range(len(image)-1):\n",
    "        for j in range(len(image[1])-1):\n",
    "            x = j + shiftImageX\n",
    "            y = i + shiftImageY\n",
    "            try:\n",
    "                imageLuminance = pixelIntensity(image[i][j])\n",
    "                warpedLuminance = pixelIntensity(merged[y][x])\n",
    "                #print(\"i,j\",i,j, \"x,y\",x,y)\n",
    "                if imageLuminance >= warpedLuminance:\n",
    "                    merged[y][x] = image[i][j]    \n",
    "            except:\n",
    "                print(\"i,j\",i,j, \"x,y\",x,y) \n",
    "    print(np.shape(overlapped))\n",
    "    #warped[-yOffset:,-xOffset:] = image[:yLimit,:xLimit]\n",
    "    \n",
    "    '''\n",
    "    for i in range(len(overlapped)):\n",
    "        for j in range(len(overlapped[0])):\n",
    "    '''        \n",
    "    return merged"
   ]
  },
  {
   "cell_type": "code",
   "execution_count": 358,
   "id": "86fc07c2-549e-436b-8b5a-85b5218fd893",
   "metadata": {},
   "outputs": [],
   "source": [
    "def fwarp(image,homography):\n",
    "    wrapped = np.zeros(np.shape(image))\n",
    "    newPositions = []\n",
    "    for i in range(len(image)):\n",
    "        for j in range(len(image[i])):\n",
    "            coordinates = np.matmul(homography, np.array([[i],[j],[1]]))\n",
    "            newPositions.append(coordinates* (1/coordinates[2][0]))\n",
    "    return np.asarray(newPositions).reshape(np.shape(np.asarray(image)))[:,:,0:2]"
   ]
  },
  {
   "cell_type": "code",
   "execution_count": 359,
   "id": "35f444f1-89bd-4c9c-a148-b68cce7ef6a3",
   "metadata": {},
   "outputs": [
    {
     "name": "stdout",
     "output_type": "stream",
     "text": [
      "[[ 2.40438547e+02  2.31928792e+02  9.51966722e+02  1.06874375e+03]\n",
      " [ 5.92873743e+01  4.61305589e+02 -7.46738233e+01  5.69077048e+02]\n",
      " [ 1.00000000e+00  1.00000000e+00  1.00000000e+00  1.00000000e+00]] (3, 4)\n",
      "[[ 5.87614029e-14  5.29061326e-14  6.40000000e+02  6.40000000e+02]\n",
      " [-2.93807014e-14  4.80000000e+02  0.00000000e+00  4.80000000e+02]\n",
      " [ 1.00000000e+00  1.00000000e+00  1.00000000e+00  1.00000000e+00]]\n",
      "minx (array([1]),) [231.92879204] [461.30558916]\n",
      "coordinates1 [[-3.84947567e+03]\n",
      " [-1.58840976e+03]\n",
      " [ 1.00000000e+00]]\n",
      "(231, 1068) (-74, 569)\n",
      "643 837\n",
      "traverseIndex 642 836\n"
     ]
    }
   ],
   "source": [
    "back_res,offset = warp(img2,homography)"
   ]
  },
  {
   "cell_type": "code",
   "execution_count": 360,
   "id": "57de2722-137f-4ff7-a0a0-ac079cd0891a",
   "metadata": {},
   "outputs": [
    {
     "name": "stdout",
     "output_type": "stream",
     "text": [
      "(231, -74)\n",
      "838 644\n",
      "warpedShape (644, 838, 3) 231 -74\n",
      "mergedShape: (644, 1069, 3)\n",
      "(644, 1069, 3) 1069 570\n",
      "(570, 231, 3)\n",
      "sonuc (644, 1069, 3)\n"
     ]
    }
   ],
   "source": [
    "overlapped = mergeImages(back_res, img1, offset)\n",
    "print(\"sonuc\", np.shape(overlapped))\n",
    "imgResult = Image.fromarray(overlapped.astype(np.uint8), 'RGB')\n",
    "imgResult.save(\"overlapped.jpg\")"
   ]
  },
  {
   "cell_type": "code",
   "execution_count": 147,
   "id": "9bc7a518-7963-4573-8e45-74ad6bbcdbca",
   "metadata": {},
   "outputs": [
    {
     "data": {
      "text/plain": [
       "(237, 627, 3)"
      ]
     },
     "execution_count": 147,
     "metadata": {},
     "output_type": "execute_result"
    }
   ],
   "source": [
    "np.shape(overlapped)"
   ]
  },
  {
   "cell_type": "code",
   "execution_count": 121,
   "id": "891f0676-3b1a-49fb-8f5c-3e961c79c91f",
   "metadata": {},
   "outputs": [
    {
     "data": {
      "text/plain": [
       "(837, 977, 3)"
      ]
     },
     "execution_count": 121,
     "metadata": {},
     "output_type": "execute_result"
    }
   ],
   "source": [
    "np.shape(back_res)\n",
    " .299r' + .587g' + .114b'"
   ]
  },
  {
   "cell_type": "code",
   "execution_count": 93,
   "id": "135258be-777f-4af3-9b7f-5145110c8d98",
   "metadata": {},
   "outputs": [
    {
     "data": {
      "text/plain": [
       "array([114.74235712, 140.90942738, 167.90942738])"
      ]
     },
     "execution_count": 93,
     "metadata": {},
     "output_type": "execute_result"
    }
   ],
   "source": [
    "back_res[1][0]"
   ]
  },
  {
   "cell_type": "code",
   "execution_count": 120,
   "id": "d339e56f-62fc-42d6-8888-f32cfbbbad66",
   "metadata": {},
   "outputs": [],
   "source": [
    "imgResult = Image.fromarray(back_res.astype(np.uint8), 'RGB')\n",
    "imgResult.save(\"warpedfirstImage5.jpg\")"
   ]
  },
  {
   "cell_type": "code",
   "execution_count": 22,
   "id": "3829557f-0d36-4991-aff6-cf177a08527d",
   "metadata": {},
   "outputs": [],
   "source": [
    "def construct(image,wrap):\n",
    "    res = np.round(wrap)\n",
    "    x_min = np.amin(res[:,:,0])\n",
    "    y_min = np.amin(res[:,:,1])\n",
    "    res[:,:,0] = res[:,:,0] + np.abs(x_min)\n",
    "    res[:,:,1] = res[:,:,1] + np.abs(y_min)\n",
    "    x_max = np.amax(res[:,:,0]).astype(int)\n",
    "    y_max = np.amax(res[:,:,1]).astype(int)\n",
    "    res = res.astype(int)\n",
    "    print(x_max,y_max)\n",
    "    scale_X = (len(image) / x_max) \n",
    "    scale_Y = (len(image[0]) / y_max)\n",
    "    projected = np.zeros(np.shape(image))\n",
    "    for i in range(len(image)):\n",
    "        for j in range(len(image[i])):\n",
    "            c = res[i][j]\n",
    "            #print(int(c[0] * scale_X), int(c[1] * scale_Y) )\n",
    "            projected[int(c[0] * scale_X)-1][int(c[1] * scale_Y)-1] = image[i][j]\n",
    "    return projected"
   ]
  },
  {
   "cell_type": "code",
   "execution_count": 23,
   "id": "9266499c-53a6-428b-a0a4-f02b2b97d1fa",
   "metadata": {},
   "outputs": [
    {
     "name": "stdout",
     "output_type": "stream",
     "text": [
      "3388 2739\n"
     ]
    }
   ],
   "source": [
    "imageMatrix=construct(im,res)\n",
    "imgResult = Image.fromarray(imageMatrix.astype(np.uint8), 'RGB')\n",
    "imgResult.save(\"10transform.jpg\")"
   ]
  },
  {
   "cell_type": "code",
   "execution_count": 24,
   "id": "8b098dee-36db-4ffb-ae75-8394ca258097",
   "metadata": {},
   "outputs": [
    {
     "name": "stdout",
     "output_type": "stream",
     "text": [
      "-3138.7226735397476 248.77620614530588\n",
      "-136.12788992140727 2602.759349287685\n"
     ]
    }
   ],
   "source": [
    "print(np.amin(res[:,:,0]),np.amax(res[:,:,0]))\n",
    "print(np.amin(res[:,:,1]),np.amax(res[:,:,1]))"
   ]
  },
  {
   "cell_type": "code",
   "execution_count": 51,
   "id": "56db76da-d5fe-4103-acce-ae2284c5e7f6",
   "metadata": {},
   "outputs": [
    {
     "data": {
      "text/plain": [
       "(3, 1)"
      ]
     },
     "execution_count": 51,
     "metadata": {},
     "output_type": "execute_result"
    }
   ],
   "source": [
    "np.shape(np.array([[1],[2],[3]]))"
   ]
  },
  {
   "cell_type": "code",
   "execution_count": 61,
   "id": "aca37517-e74c-469a-b926-b4a9347c1157",
   "metadata": {},
   "outputs": [
    {
     "data": {
      "text/plain": [
       "4"
      ]
     },
     "execution_count": 61,
     "metadata": {},
     "output_type": "execute_result"
    }
   ],
   "source": [
    "int(4.6)"
   ]
  },
  {
   "cell_type": "code",
   "execution_count": 140,
   "id": "8e127a27-bb87-4183-90c5-a9fda820bd8b",
   "metadata": {},
   "outputs": [
    {
     "data": {
      "text/plain": [
       "0.7226700000001074"
      ]
     },
     "execution_count": 140,
     "metadata": {},
     "output_type": "execute_result"
    }
   ],
   "source": [
    "3138.72267%1"
   ]
  },
  {
   "cell_type": "code",
   "execution_count": null,
   "id": "3148b3d4-6cdb-49c7-a7c7-a3403144424e",
   "metadata": {},
   "outputs": [],
   "source": []
  }
 ],
 "metadata": {
  "kernelspec": {
   "display_name": "Python 3 (ipykernel)",
   "language": "python",
   "name": "python3"
  },
  "language_info": {
   "codemirror_mode": {
    "name": "ipython",
    "version": 3
   },
   "file_extension": ".py",
   "mimetype": "text/x-python",
   "name": "python",
   "nbconvert_exporter": "python",
   "pygments_lexer": "ipython3",
   "version": "3.8.10"
  }
 },
 "nbformat": 4,
 "nbformat_minor": 5
}
