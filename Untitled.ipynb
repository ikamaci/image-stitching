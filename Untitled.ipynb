{
 "cells": [
  {
   "cell_type": "code",
   "execution_count": 43,
   "id": "5b7b95fc-729d-4ed9-a725-6f555eebac1f",
   "metadata": {},
   "outputs": [],
   "source": [
    "# importing the required libraries\n",
    "import cv2\n",
    "import numpy as np\n",
    "from PIL import Image"
   ]
  },
  {
   "cell_type": "code",
   "execution_count": 44,
   "id": "a5195b90-4c79-47d7-aee8-af1c405b005e",
   "metadata": {},
   "outputs": [],
   "source": [
    "image = Image.open(\"paris/paris_a.jpg\")\n",
    "image2 = Image.open(\"paris/paris_b.jpg\")"
   ]
  },
  {
   "cell_type": "code",
   "execution_count": 45,
   "id": "a86c4e33-f875-4089-9a6a-3894eccbc4c0",
   "metadata": {},
   "outputs": [
    {
     "data": {
      "text/plain": [
       "(640, 480)"
      ]
     },
     "execution_count": 45,
     "metadata": {},
     "output_type": "execute_result"
    }
   ],
   "source": [
    "image.size"
   ]
  },
  {
   "cell_type": "code",
   "execution_count": 46,
   "id": "e867c793-0312-4b6e-94af-944166a8fe3a",
   "metadata": {},
   "outputs": [],
   "source": [
    "with open('paris1-2.npy', 'rb') as f:\n",
    "    a = np.load(f)\n",
    "    b = np.load(f)"
   ]
  },
  {
   "cell_type": "code",
   "execution_count": 47,
   "id": "9be9b253-f959-4194-8b5a-fd300479c913",
   "metadata": {},
   "outputs": [],
   "source": [
    "def computeH(points_im1, points_im2):\n",
    "    matrixA = []\n",
    "    for i in range(len(points_im1)):\n",
    "        xs, ys = points_im1[i][0], points_im1[i][1]\n",
    "        xd, yd = points_im2[i][0], points_im1[i][1]\n",
    "        two_nineMatrix = np.array([[xs, ys, 1,0,0,0, -xd*xs, -xd*ys, -xd], [0,0,0,xs,ys,1,-yd*xs,-yd*ys,-yd]])\n",
    "        matrixA.append(two_nineMatrix[0])\n",
    "        matrixA.append(two_nineMatrix[1])\n",
    "    return matrixA"
   ]
  },
  {
   "cell_type": "code",
   "execution_count": 48,
   "id": "6bd56c75-edd7-4cb0-bedd-be37d06de0ce",
   "metadata": {},
   "outputs": [],
   "source": [
    "A = computeH(a,b)\n",
    "u, s, vh = np.linalg.svd(A, full_matrices=True)\n",
    "hstar = vh[-1].reshape(3,3)"
   ]
  },
  {
   "cell_type": "code",
   "execution_count": 49,
   "id": "62afd9a6-5367-46f8-87cb-570cb7f1c3bd",
   "metadata": {},
   "outputs": [
    {
     "ename": "error",
     "evalue": "OpenCV(4.6.0) /io/opencv/modules/core/src/matmul.dispatch.cpp:550: error: (-215:Assertion failed) scn + 1 == m.cols in function 'perspectiveTransform'\n",
     "output_type": "error",
     "traceback": [
      "\u001b[0;31m---------------------------------------------------------------------------\u001b[0m",
      "\u001b[0;31merror\u001b[0m                                     Traceback (most recent call last)",
      "Cell \u001b[0;32mIn [49], line 1\u001b[0m\n\u001b[0;32m----> 1\u001b[0m dst \u001b[38;5;241m=\u001b[39m cv2\u001b[38;5;241m.\u001b[39mperspectiveTransform(np\u001b[38;5;241m.\u001b[39masarray(image),\u001b[38;5;241m-\u001b[39m\u001b[38;5;241m1\u001b[39m\u001b[38;5;241m*\u001b[39mhstar)\n",
      "\u001b[0;31merror\u001b[0m: OpenCV(4.6.0) /io/opencv/modules/core/src/matmul.dispatch.cpp:550: error: (-215:Assertion failed) scn + 1 == m.cols in function 'perspectiveTransform'\n"
     ]
    }
   ],
   "source": [
    "dst = cv2.perspectiveTransform(np.asarray(image),-1*hstar)"
   ]
  },
  {
   "cell_type": "code",
   "execution_count": 54,
   "id": "5d319fcc-bd79-447b-a982-2e737a35d017",
   "metadata": {},
   "outputs": [
    {
     "name": "stdout",
     "output_type": "stream",
     "text": [
      "(480, 640, 3)\n"
     ]
    }
   ],
   "source": [
    "print(np.shape(image))\n",
    "img_stitch = cv2.warpPerspective(np.asarray(image2), hstar, (np.shape(image)[1]*2, np.shape(image)[0]))\n",
    "#print(np.shape(img_stitch),np.shape(image),np.shape(image2))\n",
    "#img_stitch[:, np.shape(image)[1]-1:-1] = image2"
   ]
  },
  {
   "cell_type": "code",
   "execution_count": 55,
   "id": "2b728bed-44ba-4015-835e-b3ebbe2eaa19",
   "metadata": {},
   "outputs": [],
   "source": [
    "np.shape(img_stitch)\n",
    "cv2.imwrite(\"cv.jpg\", img_stitch)\n",
    "warped = Image.open(\"cv.jpg\")"
   ]
  },
  {
   "cell_type": "code",
   "execution_count": 52,
   "id": "205c7d26-a044-43aa-88c2-9e8165f43484",
   "metadata": {},
   "outputs": [
    {
     "name": "stdout",
     "output_type": "stream",
     "text": [
      "Help on built-in function warpPerspective:\n",
      "\n",
      "warpPerspective(...)\n",
      "    warpPerspective(src, M, dsize[, dst[, flags[, borderMode[, borderValue]]]]) -> dst\n",
      "    .   @brief Applies a perspective transformation to an image.\n",
      "    .   \n",
      "    .   The function warpPerspective transforms the source image using the specified matrix:\n",
      "    .   \n",
      "    .   \\f[\\texttt{dst} (x,y) =  \\texttt{src} \\left ( \\frac{M_{11} x + M_{12} y + M_{13}}{M_{31} x + M_{32} y + M_{33}} ,\n",
      "    .        \\frac{M_{21} x + M_{22} y + M_{23}}{M_{31} x + M_{32} y + M_{33}} \\right )\\f]\n",
      "    .   \n",
      "    .   when the flag #WARP_INVERSE_MAP is set. Otherwise, the transformation is first inverted with invert\n",
      "    .   and then put in the formula above instead of M. The function cannot operate in-place.\n",
      "    .   \n",
      "    .   @param src input image.\n",
      "    .   @param dst output image that has the size dsize and the same type as src .\n",
      "    .   @param M \\f$3\\times 3\\f$ transformation matrix.\n",
      "    .   @param dsize size of the output image.\n",
      "    .   @param flags combination of interpolation methods (#INTER_LINEAR or #INTER_NEAREST) and the\n",
      "    .   optional flag #WARP_INVERSE_MAP, that sets M as the inverse transformation (\n",
      "    .   \\f$\\texttt{dst}\\rightarrow\\texttt{src}\\f$ ).\n",
      "    .   @param borderMode pixel extrapolation method (#BORDER_CONSTANT or #BORDER_REPLICATE).\n",
      "    .   @param borderValue value used in case of a constant border; by default, it equals 0.\n",
      "    .   \n",
      "    .   @sa  warpAffine, resize, remap, getRectSubPix, perspectiveTransform\n",
      "\n"
     ]
    }
   ],
   "source": [
    "help(cv2.warpPerspective)"
   ]
  },
  {
   "cell_type": "code",
   "execution_count": 53,
   "id": "67698b9c-8a77-4fe1-bdfe-34f45a262678",
   "metadata": {},
   "outputs": [
    {
     "ename": "ValueError",
     "evalue": "images do not match",
     "output_type": "error",
     "traceback": [
      "\u001b[0;31m---------------------------------------------------------------------------\u001b[0m",
      "\u001b[0;31mValueError\u001b[0m                                Traceback (most recent call last)",
      "Cell \u001b[0;32mIn [53], line 2\u001b[0m\n\u001b[1;32m      1\u001b[0m Image\u001b[38;5;241m.\u001b[39mopen(\u001b[38;5;124m\"\u001b[39m\u001b[38;5;124mparis/paris_b.jpg\u001b[39m\u001b[38;5;124m\"\u001b[39m)\n\u001b[0;32m----> 2\u001b[0m new_img \u001b[38;5;241m=\u001b[39m Image\u001b[38;5;241m.\u001b[39mblend(warped, image2, \u001b[38;5;241m0.5\u001b[39m)\n\u001b[1;32m      3\u001b[0m new_img\u001b[38;5;241m.\u001b[39msave(\u001b[38;5;124m\"\u001b[39m\u001b[38;5;124mnew.png\u001b[39m\u001b[38;5;124m\"\u001b[39m,\u001b[38;5;124m\"\u001b[39m\u001b[38;5;124mPNG\u001b[39m\u001b[38;5;124m\"\u001b[39m)\n",
      "File \u001b[0;32m/usr/lib/python3/dist-packages/PIL/Image.py:2905\u001b[0m, in \u001b[0;36mblend\u001b[0;34m(im1, im2, alpha)\u001b[0m\n\u001b[1;32m   2903\u001b[0m im1\u001b[38;5;241m.\u001b[39mload()\n\u001b[1;32m   2904\u001b[0m im2\u001b[38;5;241m.\u001b[39mload()\n\u001b[0;32m-> 2905\u001b[0m \u001b[38;5;28;01mreturn\u001b[39;00m im1\u001b[38;5;241m.\u001b[39m_new(\u001b[43mcore\u001b[49m\u001b[38;5;241;43m.\u001b[39;49m\u001b[43mblend\u001b[49m\u001b[43m(\u001b[49m\u001b[43mim1\u001b[49m\u001b[38;5;241;43m.\u001b[39;49m\u001b[43mim\u001b[49m\u001b[43m,\u001b[49m\u001b[43m \u001b[49m\u001b[43mim2\u001b[49m\u001b[38;5;241;43m.\u001b[39;49m\u001b[43mim\u001b[49m\u001b[43m,\u001b[49m\u001b[43m \u001b[49m\u001b[43malpha\u001b[49m\u001b[43m)\u001b[49m)\n",
      "\u001b[0;31mValueError\u001b[0m: images do not match"
     ]
    }
   ],
   "source": [
    "Image.open(\"paris/paris_b.jpg\")\n",
    "new_img = Image.blend(warped, image2, 0.5)\n",
    "new_img.save(\"new.png\",\"PNG\")"
   ]
  },
  {
   "cell_type": "code",
   "execution_count": null,
   "id": "bd5b6014-0385-4102-8c1c-addc2856f0b5",
   "metadata": {},
   "outputs": [],
   "source": []
  }
 ],
 "metadata": {
  "kernelspec": {
   "display_name": "Python 3 (ipykernel)",
   "language": "python",
   "name": "python3"
  },
  "language_info": {
   "codemirror_mode": {
    "name": "ipython",
    "version": 3
   },
   "file_extension": ".py",
   "mimetype": "text/x-python",
   "name": "python",
   "nbconvert_exporter": "python",
   "pygments_lexer": "ipython3",
   "version": "3.8.10"
  }
 },
 "nbformat": 4,
 "nbformat_minor": 5
}
