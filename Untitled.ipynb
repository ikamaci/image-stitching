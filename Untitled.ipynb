{
 "cells": [
  {
   "cell_type": "code",
   "execution_count": null,
   "id": "23bc88bc-6cf7-4058-94fc-31e52059622c",
   "metadata": {},
   "outputs": [],
   "source": [
    "from PIL import Image\n",
    "import matplotlib.pyplot as plt\n",
    "import numpy as np\n",
    "import sys\n",
    "\n",
    "image = Image.open(\"paris/paris_a.jpg\")\n",
    "plt.imshow(image)\n",
    "points = plt.ginput(5, show_clicks=True)"
   ]
  },
  {
   "cell_type": "code",
   "execution_count": 3,
   "id": "7c9d8b47-dae4-4949-ba7c-61ebfe443c2d",
   "metadata": {},
   "outputs": [],
   "source": [
    "with open('paris1-2.npy', 'rb') as f:\n",
    "    a = np.load(f)\n",
    "    b = np.load(f)"
   ]
  },
  {
   "cell_type": "code",
   "execution_count": 4,
   "id": "570bd5f5-c5c1-48d0-8220-e5ec6d33ef90",
   "metadata": {},
   "outputs": [
    {
     "data": {
      "text/plain": [
       "array([[328.07230856, 218.52507106],\n",
       "       [310.52135476, 246.0545867 ],\n",
       "       [334.76594613, 318.44014258],\n",
       "       [445.64545901, 326.37323018],\n",
       "       [437.88943571, 271.75345296]])"
      ]
     },
     "execution_count": 4,
     "metadata": {},
     "output_type": "execute_result"
    }
   ],
   "source": [
    "a"
   ]
  },
  {
   "cell_type": "code",
   "execution_count": 5,
   "id": "6e5cf613-9d6e-4319-85fc-e7dbcb9e4451",
   "metadata": {},
   "outputs": [
    {
     "data": {
      "text/plain": [
       "array([[ 41.55208071, 209.79628183],\n",
       "       [ 15.2006131 , 239.52368902],\n",
       "       [ 43.12193581, 324.2018326 ],\n",
       "       [180.37196077, 328.55792604],\n",
       "       [165.44159128, 273.10212136]])"
      ]
     },
     "execution_count": 5,
     "metadata": {},
     "output_type": "execute_result"
    }
   ],
   "source": [
    "b"
   ]
  },
  {
   "cell_type": "code",
   "execution_count": 37,
   "id": "da7666ca-446b-4e22-b700-da04daa678e5",
   "metadata": {},
   "outputs": [
    {
     "data": {
      "text/plain": [
       "(480, 640, 3)"
      ]
     },
     "execution_count": 37,
     "metadata": {},
     "output_type": "execute_result"
    }
   ],
   "source": [
    "np.shape(np.asarray(image))"
   ]
  },
  {
   "cell_type": "code",
   "execution_count": 21,
   "id": "2ee00e5c-3c74-41fd-9210-890a5fbfed7d",
   "metadata": {},
   "outputs": [],
   "source": [
    "def computeH(points_im1, points_im2):\n",
    "    matrixA = []\n",
    "    for i in range(len(points_im1)):\n",
    "        xs, ys = points_im1[i][0], points_im1[i][1]\n",
    "        xd, yd = points_im2[i][0], points_im1[i][1]\n",
    "        two_nineMatrix = np.array([[xs, ys, 1,0,0,0, -xd*xs, -xd*ys, -xd], [0,0,0,xs,ys,1,-yd*xs,-yd*ys,-yd]])\n",
    "        matrixA.append(two_nineMatrix[0])\n",
    "        matrixA.append(two_nineMatrix[1])\n",
    "    return matrixA"
   ]
  },
  {
   "cell_type": "code",
   "execution_count": 25,
   "id": "5fcf0046-0e03-45d7-93e8-4e9b8cbcb550",
   "metadata": {},
   "outputs": [],
   "source": [
    "A = computeH(a,b)"
   ]
  },
  {
   "cell_type": "code",
   "execution_count": 26,
   "id": "d63be219-3505-441b-b19a-35d961fd722d",
   "metadata": {},
   "outputs": [],
   "source": [
    "u, s, vh = np.linalg.svd(A, full_matrices=True)"
   ]
  },
  {
   "cell_type": "code",
   "execution_count": 31,
   "id": "f3fff445-1948-4209-bbc1-70da89bb0c62",
   "metadata": {},
   "outputs": [
    {
     "data": {
      "text/plain": [
       "array([[-8.83551319e-04, -6.19752443e-04, -2.09870277e-06,\n",
       "        -2.30301517e-03, -1.72196787e-03, -6.01014928e-06,\n",
       "         8.02555990e-01,  5.96565432e-01,  2.03342891e-03],\n",
       "       [ 5.27164396e-03,  2.85099905e-03,  1.12640354e-05,\n",
       "         4.99807034e-04, -3.37716793e-03, -6.18525665e-06,\n",
       "        -5.96555305e-01,  8.02541586e-01,  1.09405214e-03],\n",
       "       [-7.50134023e-01, -5.58843252e-01, -1.98812270e-03,\n",
       "         2.89365956e-01,  2.02700938e-01,  7.40864525e-04,\n",
       "        -3.61550243e-03,  4.91356073e-03, -1.14509814e-02],\n",
       "       [-1.99204569e-01, -3.11804776e-01, -1.57031681e-03,\n",
       "        -7.58090964e-01, -5.04200421e-01, -2.37329403e-03,\n",
       "        -2.94237390e-03, -1.67251180e-03,  1.84812862e-01],\n",
       "       [ 4.19581375e-01, -5.68688223e-01, -9.32778093e-05,\n",
       "        -1.33502545e-01,  1.36949055e-01,  2.57029307e-03,\n",
       "         6.60787670e-04,  1.34334818e-03, -6.81144879e-01],\n",
       "       [ 4.50281697e-01, -4.83680109e-01,  4.26959673e-03,\n",
       "         1.00668986e-01,  2.29201560e-01, -3.33643028e-03,\n",
       "         5.03963621e-05, -1.26485341e-03,  7.07531895e-01],\n",
       "       [-1.37013770e-01,  1.81963301e-01,  6.56632289e-04,\n",
       "        -5.59996928e-01,  7.95856561e-01, -1.86937060e-03,\n",
       "        -1.86643842e-03,  2.51837213e-03,  3.34455868e-02],\n",
       "       [ 1.72511700e-04, -1.31501583e-04,  2.17474528e-02,\n",
       "        -2.39585061e-03,  5.12723632e-04,  9.99750079e-01,\n",
       "        -8.23909841e-06, -1.95481472e-06,  4.55828039e-03],\n",
       "       [ 3.60229881e-03, -2.94808640e-04, -9.99750949e-01,\n",
       "         6.37770350e-04,  1.88875550e-03,  2.17339719e-02,\n",
       "         2.15390374e-06, -3.26994567e-06,  2.93879519e-03]])"
      ]
     },
     "execution_count": 31,
     "metadata": {},
     "output_type": "execute_result"
    }
   ],
   "source": [
    "vh"
   ]
  },
  {
   "cell_type": "code",
   "execution_count": 34,
   "id": "5413cd3a-2ade-4e5c-b8ad-f9f25990bbc9",
   "metadata": {},
   "outputs": [],
   "source": [
    "hstar = vh[-1].reshape(3,3)"
   ]
  },
  {
   "cell_type": "code",
   "execution_count": 41,
   "id": "33b3f6fb-4d9e-4532-a5a8-2b4a6a9ee6de",
   "metadata": {},
   "outputs": [],
   "source": [
    "def warp(image,homography):\n",
    "    t_inverse = np.linalg.inv(homography)\n",
    "    wrapped = np.zeros(np.shape(image))\n",
    "    for i in len(wrapped):\n",
    "        for j in len(wrapped[i]):\n",
    "            coordinates = np.matmul(t_inverse, )"
   ]
  },
  {
   "cell_type": "code",
   "execution_count": 40,
   "id": "35f444f1-89bd-4c9c-a148-b68cce7ef6a3",
   "metadata": {},
   "outputs": [],
   "source": [
    "warp(np.asarray(image),hstar)"
   ]
  },
  {
   "cell_type": "code",
   "execution_count": null,
   "id": "9bc7a518-7963-4573-8e45-74ad6bbcdbca",
   "metadata": {},
   "outputs": [],
   "source": []
  }
 ],
 "metadata": {
  "kernelspec": {
   "display_name": "Python 3 (ipykernel)",
   "language": "python",
   "name": "python3"
  },
  "language_info": {
   "codemirror_mode": {
    "name": "ipython",
    "version": 3
   },
   "file_extension": ".py",
   "mimetype": "text/x-python",
   "name": "python",
   "nbconvert_exporter": "python",
   "pygments_lexer": "ipython3",
   "version": "3.8.10"
  }
 },
 "nbformat": 4,
 "nbformat_minor": 5
}
